{
 "cells": [
  {
   "cell_type": "code",
   "execution_count": 1,
   "metadata": {},
   "outputs": [
    {
     "name": "stderr",
     "output_type": "stream",
     "text": [
      "/home/dbdimitrov/anaconda3/envs/spiana/lib/python3.10/site-packages/tqdm/auto.py:21: TqdmWarning: IProgress not found. Please update jupyter and ipywidgets. See https://ipywidgets.readthedocs.io/en/stable/user_install.html\n",
      "  from .autonotebook import tqdm as notebook_tqdm\n"
     ]
    }
   ],
   "source": [
    "import omnipath\n",
    "from omnipath._core.utils._homologene import download_homologene, show_homologene"
   ]
  },
  {
   "cell_type": "code",
   "execution_count": 2,
   "metadata": {},
   "outputs": [],
   "source": [
    "import liana as li"
   ]
  },
  {
   "cell_type": "code",
   "execution_count": 3,
   "metadata": {},
   "outputs": [],
   "source": [
    "import pandas as pd\n",
    "import numpy as np\n",
    "from itertools import product"
   ]
  },
  {
   "cell_type": "code",
   "execution_count": null,
   "metadata": {},
   "outputs": [],
   "source": []
  },
  {
   "attachments": {},
   "cell_type": "markdown",
   "metadata": {},
   "source": [
    "Simplify fun, to be done by a single-column at a time"
   ]
  },
  {
   "cell_type": "code",
   "execution_count": 4,
   "metadata": {},
   "outputs": [],
   "source": [
    "import pandas as pd"
   ]
  },
  {
   "cell_type": "code",
   "execution_count": 5,
   "metadata": {},
   "outputs": [],
   "source": [
    "# define a function to replace list elements with dictionary values\n",
    "def _replace_subunits(lst, my_dict, one_to_many=False):\n",
    "    result = []\n",
    "    for x in lst:\n",
    "        if x in my_dict:\n",
    "            value = my_dict[x]\n",
    "            \n",
    "            if not isinstance(value, list):\n",
    "                value = [value]\n",
    "            \n",
    "            # TODO: one_to_many as integer\n",
    "            if (not one_to_many) & (len(my_dict[x]) > 1):\n",
    "                result.append(np.nan)\n",
    "            else:\n",
    "                result.append(value)\n",
    "        else:\n",
    "            result.append(np.nan)\n",
    "    return result"
   ]
  },
  {
   "cell_type": "code",
   "execution_count": 6,
   "metadata": {},
   "outputs": [],
   "source": [
    "def generate_orthologs(data, column, map_dict, one_to_many=False):\n",
    "    df = data[[column]].drop_duplicates().set_index(column)\n",
    "    \n",
    "    df['subunits'] = df.index.str.split('_')\n",
    "    df['subunits'] = df['subunits'].apply(_replace_subunits, args=(map_dict, one_to_many,))\n",
    "    df = df['subunits'].explode().reset_index()\n",
    "    \n",
    "    grouped = df.groupby(column).filter(lambda x: x['subunits'].notna().all()).groupby(column)\n",
    "    \n",
    "    # Generate all possible subunit combinations within each group\n",
    "    complexes = []\n",
    "    for name, group in grouped:\n",
    "        if group['subunits'].isnull().all():\n",
    "            continue\n",
    "        subunit_lists = [list(x) for x in group['subunits']]\n",
    "        complex_combinations = list(product(*subunit_lists))\n",
    "        for complex in complex_combinations:\n",
    "            complexes.append((name, '_'.join(complex)))\n",
    "    \n",
    "    # Create output DataFrame\n",
    "    result = pd.DataFrame(complexes, columns=['source', 'target']).set_index('source')\n",
    "    \n",
    "    return result"
   ]
  },
  {
   "cell_type": "code",
   "execution_count": null,
   "metadata": {},
   "outputs": [],
   "source": []
  },
  {
   "cell_type": "code",
   "execution_count": null,
   "metadata": {},
   "outputs": [],
   "source": [
    "# map_df = download_homologene('9606', '10090').set_index('source')\n",
    "# to_many = map_df[map_df.groupby('source').size() >= 2].index"
   ]
  },
  {
   "cell_type": "code",
   "execution_count": 7,
   "metadata": {},
   "outputs": [],
   "source": [
    "# # one_to_many_complexes\n",
    "complex1tomany = ['CSF2RA_CSF2RB',\n",
    " 'CSF2RB_IL5RA',\n",
    " 'CSF2RB_IL3RA',\n",
    " 'IL11RA_IL6ST',\n",
    " 'IFNL3_IFNLR1_IL10RB',\n",
    " 'IL22_IL22RA1']"
   ]
  },
  {
   "cell_type": "code",
   "execution_count": 14,
   "metadata": {},
   "outputs": [],
   "source": [
    "data = li.resource.select_resource()\n",
    "# data = data[data['receptor'].str.contains('_')]\n",
    "data = data[data['receptor'].isin(complex1tomany)]"
   ]
  },
  {
   "cell_type": "code",
   "execution_count": 15,
   "metadata": {},
   "outputs": [],
   "source": [
    "column = 'receptor'"
   ]
  },
  {
   "cell_type": "code",
   "execution_count": 16,
   "metadata": {},
   "outputs": [
    {
     "data": {
      "text/html": [
       "<div>\n",
       "<style scoped>\n",
       "    .dataframe tbody tr th:only-of-type {\n",
       "        vertical-align: middle;\n",
       "    }\n",
       "\n",
       "    .dataframe tbody tr th {\n",
       "        vertical-align: top;\n",
       "    }\n",
       "\n",
       "    .dataframe thead th {\n",
       "        text-align: right;\n",
       "    }\n",
       "</style>\n",
       "<table border=\"1\" class=\"dataframe\">\n",
       "  <thead>\n",
       "    <tr style=\"text-align: right;\">\n",
       "      <th></th>\n",
       "      <th>ligand</th>\n",
       "      <th>receptor</th>\n",
       "    </tr>\n",
       "  </thead>\n",
       "  <tbody>\n",
       "    <tr>\n",
       "      <th>1841</th>\n",
       "      <td>CSF2</td>\n",
       "      <td>CSF2RA_CSF2RB</td>\n",
       "    </tr>\n",
       "    <tr>\n",
       "      <th>1898</th>\n",
       "      <td>IL5</td>\n",
       "      <td>CSF2RB_IL5RA</td>\n",
       "    </tr>\n",
       "    <tr>\n",
       "      <th>1975</th>\n",
       "      <td>IL3</td>\n",
       "      <td>CSF2RB_IL3RA</td>\n",
       "    </tr>\n",
       "    <tr>\n",
       "      <th>2331</th>\n",
       "      <td>IL11</td>\n",
       "      <td>IL11RA_IL6ST</td>\n",
       "    </tr>\n",
       "    <tr>\n",
       "      <th>2992</th>\n",
       "      <td>IFNL3</td>\n",
       "      <td>IFNL3_IFNLR1_IL10RB</td>\n",
       "    </tr>\n",
       "    <tr>\n",
       "      <th>3263</th>\n",
       "      <td>IL22</td>\n",
       "      <td>IL22_IL22RA1</td>\n",
       "    </tr>\n",
       "  </tbody>\n",
       "</table>\n",
       "</div>"
      ],
      "text/plain": [
       "     ligand             receptor\n",
       "1841   CSF2        CSF2RA_CSF2RB\n",
       "1898    IL5         CSF2RB_IL5RA\n",
       "1975    IL3         CSF2RB_IL3RA\n",
       "2331   IL11         IL11RA_IL6ST\n",
       "2992  IFNL3  IFNL3_IFNLR1_IL10RB\n",
       "3263   IL22         IL22_IL22RA1"
      ]
     },
     "execution_count": 16,
     "metadata": {},
     "output_type": "execute_result"
    }
   ],
   "source": [
    "data"
   ]
  },
  {
   "cell_type": "code",
   "execution_count": null,
   "metadata": {},
   "outputs": [],
   "source": []
  },
  {
   "cell_type": "code",
   "execution_count": 11,
   "metadata": {},
   "outputs": [],
   "source": [
    "# exploded = li.resource.explode_complexes(data)\n",
    "# list(exploded[exploded['receptor'].isin(to_many)]['receptor_complex'])"
   ]
  },
  {
   "cell_type": "code",
   "execution_count": null,
   "metadata": {},
   "outputs": [],
   "source": []
  },
  {
   "attachments": {},
   "cell_type": "markdown",
   "metadata": {},
   "source": [
    "SignaLink"
   ]
  },
  {
   "cell_type": "code",
   "execution_count": null,
   "metadata": {},
   "outputs": [],
   "source": [
    "import omnipath as op"
   ]
  },
  {
   "cell_type": "code",
   "execution_count": null,
   "metadata": {},
   "outputs": [],
   "source": [
    "data = op.requests.Annotations.get(resources='SignaLink_pathway', genesymbols=True)"
   ]
  },
  {
   "cell_type": "code",
   "execution_count": null,
   "metadata": {},
   "outputs": [],
   "source": [
    "CPLEX_PREFIX = 'COMPLEX:'"
   ]
  },
  {
   "cell_type": "code",
   "execution_count": null,
   "metadata": {},
   "outputs": [],
   "source": [
    "data['genesymbol'] = data['genesymbol'].replace(CPLEX_PREFIX, '', regex=True)"
   ]
  },
  {
   "cell_type": "code",
   "execution_count": null,
   "metadata": {},
   "outputs": [],
   "source": [
    "column = 'genesymbol'"
   ]
  },
  {
   "cell_type": "code",
   "execution_count": null,
   "metadata": {},
   "outputs": [],
   "source": [
    "# data = data[data[column].str.contains('ABI1_')]\n",
    "data"
   ]
  },
  {
   "cell_type": "code",
   "execution_count": null,
   "metadata": {},
   "outputs": [],
   "source": []
  },
  {
   "attachments": {},
   "cell_type": "markdown",
   "metadata": {},
   "source": [
    "Translate"
   ]
  },
  {
   "cell_type": "code",
   "execution_count": 12,
   "metadata": {},
   "outputs": [],
   "source": [
    "def orthology_translate_column(data, column, id_type, target_organism, replace=True, keep_untranslated=False, source_organism=9606, one_to_many=False):\n",
    "    # get orthologs\n",
    "    source_organism, target_organism = str(source_organism), str(target_organism)\n",
    "    map_df = download_homologene(source_organism, target_organism, id_type).set_index('source')\n",
    "    map_dict = map_df.groupby(level=0)[\"target\"].apply(list).to_dict()\n",
    "    map_data = generate_orthologs(data, column, map_dict, one_to_many)\n",
    "    \n",
    "    # join orthologs\n",
    "    data = (data.set_index(column).\n",
    "            merge(map_data, left_index=True, right_index=True, how='left').\n",
    "            reset_index(names=column)\n",
    "            )\n",
    "    \n",
    "    # replace orthologs\n",
    "    if replace:\n",
    "        data[column] = data['target']\n",
    "        data = data.dropna(subset=[column]).drop('target', axis=1)\n",
    "    elif keep_untranslated:\n",
    "        data['target'] = data.apply(lambda x: x['target'] if not pd.isnull(x['target']) else x[column], axis=1)\n",
    "    \n",
    "    return data"
   ]
  },
  {
   "cell_type": "code",
   "execution_count": 20,
   "metadata": {},
   "outputs": [
    {
     "data": {
      "text/html": [
       "<div>\n",
       "<style scoped>\n",
       "    .dataframe tbody tr th:only-of-type {\n",
       "        vertical-align: middle;\n",
       "    }\n",
       "\n",
       "    .dataframe tbody tr th {\n",
       "        vertical-align: top;\n",
       "    }\n",
       "\n",
       "    .dataframe thead th {\n",
       "        text-align: right;\n",
       "    }\n",
       "</style>\n",
       "<table border=\"1\" class=\"dataframe\">\n",
       "  <thead>\n",
       "    <tr style=\"text-align: right;\">\n",
       "      <th></th>\n",
       "      <th>receptor</th>\n",
       "      <th>ligand</th>\n",
       "      <th>target</th>\n",
       "    </tr>\n",
       "  </thead>\n",
       "  <tbody>\n",
       "    <tr>\n",
       "      <th>0</th>\n",
       "      <td>CSF2RA_CSF2RB</td>\n",
       "      <td>CSF2</td>\n",
       "      <td>Csf2ra_Csf2rb</td>\n",
       "    </tr>\n",
       "    <tr>\n",
       "      <th>1</th>\n",
       "      <td>CSF2RA_CSF2RB</td>\n",
       "      <td>CSF2</td>\n",
       "      <td>Csf2ra_Csf2rb2</td>\n",
       "    </tr>\n",
       "    <tr>\n",
       "      <th>2</th>\n",
       "      <td>CSF2RB_IL3RA</td>\n",
       "      <td>IL3</td>\n",
       "      <td>Csf2rb_Il3ra</td>\n",
       "    </tr>\n",
       "    <tr>\n",
       "      <th>3</th>\n",
       "      <td>CSF2RB_IL3RA</td>\n",
       "      <td>IL3</td>\n",
       "      <td>Csf2rb2_Il3ra</td>\n",
       "    </tr>\n",
       "    <tr>\n",
       "      <th>4</th>\n",
       "      <td>CSF2RB_IL5RA</td>\n",
       "      <td>IL5</td>\n",
       "      <td>Csf2rb_Il5ra</td>\n",
       "    </tr>\n",
       "    <tr>\n",
       "      <th>5</th>\n",
       "      <td>CSF2RB_IL5RA</td>\n",
       "      <td>IL5</td>\n",
       "      <td>Csf2rb2_Il5ra</td>\n",
       "    </tr>\n",
       "    <tr>\n",
       "      <th>6</th>\n",
       "      <td>IFNL3_IFNLR1_IL10RB</td>\n",
       "      <td>IFNL3</td>\n",
       "      <td>Ifnl2_Ifnlr1_Il10rb</td>\n",
       "    </tr>\n",
       "    <tr>\n",
       "      <th>7</th>\n",
       "      <td>IFNL3_IFNLR1_IL10RB</td>\n",
       "      <td>IFNL3</td>\n",
       "      <td>Ifnl3_Ifnlr1_Il10rb</td>\n",
       "    </tr>\n",
       "    <tr>\n",
       "      <th>8</th>\n",
       "      <td>IL11RA_IL6ST</td>\n",
       "      <td>IL11</td>\n",
       "      <td>Gm13305_Il6st</td>\n",
       "    </tr>\n",
       "    <tr>\n",
       "      <th>9</th>\n",
       "      <td>IL11RA_IL6ST</td>\n",
       "      <td>IL11</td>\n",
       "      <td>Il11ra1_Il6st</td>\n",
       "    </tr>\n",
       "    <tr>\n",
       "      <th>10</th>\n",
       "      <td>IL11RA_IL6ST</td>\n",
       "      <td>IL11</td>\n",
       "      <td>Il11ra2_Il6st</td>\n",
       "    </tr>\n",
       "    <tr>\n",
       "      <th>11</th>\n",
       "      <td>IL22_IL22RA1</td>\n",
       "      <td>IL22</td>\n",
       "      <td>Il22_Il22ra1</td>\n",
       "    </tr>\n",
       "    <tr>\n",
       "      <th>12</th>\n",
       "      <td>IL22_IL22RA1</td>\n",
       "      <td>IL22</td>\n",
       "      <td>Il22b_Il22ra1</td>\n",
       "    </tr>\n",
       "  </tbody>\n",
       "</table>\n",
       "</div>"
      ],
      "text/plain": [
       "               receptor ligand               target\n",
       "0         CSF2RA_CSF2RB   CSF2        Csf2ra_Csf2rb\n",
       "1         CSF2RA_CSF2RB   CSF2       Csf2ra_Csf2rb2\n",
       "2          CSF2RB_IL3RA    IL3         Csf2rb_Il3ra\n",
       "3          CSF2RB_IL3RA    IL3        Csf2rb2_Il3ra\n",
       "4          CSF2RB_IL5RA    IL5         Csf2rb_Il5ra\n",
       "5          CSF2RB_IL5RA    IL5        Csf2rb2_Il5ra\n",
       "6   IFNL3_IFNLR1_IL10RB  IFNL3  Ifnl2_Ifnlr1_Il10rb\n",
       "7   IFNL3_IFNLR1_IL10RB  IFNL3  Ifnl3_Ifnlr1_Il10rb\n",
       "8          IL11RA_IL6ST   IL11        Gm13305_Il6st\n",
       "9          IL11RA_IL6ST   IL11        Il11ra1_Il6st\n",
       "10         IL11RA_IL6ST   IL11        Il11ra2_Il6st\n",
       "11         IL22_IL22RA1   IL22         Il22_Il22ra1\n",
       "12         IL22_IL22RA1   IL22        Il22b_Il22ra1"
      ]
     },
     "execution_count": 20,
     "metadata": {},
     "output_type": "execute_result"
    }
   ],
   "source": [
    "orthology_translate_column(data, column, 'genesymbol', 10090, replace=False, keep_untranslated=True, one_to_many=True)"
   ]
  },
  {
   "cell_type": "code",
   "execution_count": null,
   "metadata": {},
   "outputs": [],
   "source": []
  },
  {
   "cell_type": "code",
   "execution_count": null,
   "metadata": {},
   "outputs": [],
   "source": []
  },
  {
   "cell_type": "code",
   "execution_count": null,
   "metadata": {},
   "outputs": [],
   "source": []
  },
  {
   "cell_type": "code",
   "execution_count": null,
   "metadata": {},
   "outputs": [],
   "source": [
    "replace = False\n",
    "keep_untranslated = True\n",
    "one_to_many = False"
   ]
  },
  {
   "cell_type": "code",
   "execution_count": null,
   "metadata": {},
   "outputs": [],
   "source": [
    "map_df = download_homologene('9606', '10090').set_index('source')"
   ]
  },
  {
   "cell_type": "code",
   "execution_count": null,
   "metadata": {},
   "outputs": [],
   "source": [
    "map_dict = map_df.groupby(level=0)[\"target\"].apply(list).to_dict()\n",
    "map_data = generate_orthologs(data, column, 'subunits', one_to_many).sort_values('source')"
   ]
  },
  {
   "cell_type": "code",
   "execution_count": null,
   "metadata": {},
   "outputs": [],
   "source": [
    "map_data.head()"
   ]
  },
  {
   "cell_type": "code",
   "execution_count": null,
   "metadata": {},
   "outputs": [],
   "source": []
  },
  {
   "cell_type": "code",
   "execution_count": null,
   "metadata": {},
   "outputs": [],
   "source": [
    "data = data.set_index(column).merge(map_data, left_index=True, right_index=True, how='left').reset_index(names=column)"
   ]
  },
  {
   "cell_type": "code",
   "execution_count": null,
   "metadata": {},
   "outputs": [],
   "source": [
    "if replace:\n",
    "    data[column] = data['target']\n",
    "    data = data.dropna(subset=[column]).drop('target', axis=1)\n",
    "elif keep_untranslated:\n",
    "    data['target'] = data.apply(lambda x: x['target'] if not pd.isnull(x['target']) else x[column], axis=1)"
   ]
  },
  {
   "cell_type": "code",
   "execution_count": null,
   "metadata": {},
   "outputs": [],
   "source": [
    "data"
   ]
  },
  {
   "cell_type": "code",
   "execution_count": null,
   "metadata": {},
   "outputs": [],
   "source": []
  },
  {
   "cell_type": "code",
   "execution_count": null,
   "metadata": {},
   "outputs": [],
   "source": []
  },
  {
   "cell_type": "code",
   "execution_count": null,
   "metadata": {},
   "outputs": [],
   "source": []
  },
  {
   "cell_type": "code",
   "execution_count": null,
   "metadata": {},
   "outputs": [],
   "source": []
  },
  {
   "cell_type": "code",
   "execution_count": null,
   "metadata": {},
   "outputs": [],
   "source": []
  },
  {
   "cell_type": "code",
   "execution_count": null,
   "metadata": {},
   "outputs": [],
   "source": []
  },
  {
   "cell_type": "code",
   "execution_count": null,
   "metadata": {},
   "outputs": [],
   "source": []
  },
  {
   "cell_type": "code",
   "execution_count": null,
   "metadata": {},
   "outputs": [],
   "source": []
  },
  {
   "cell_type": "code",
   "execution_count": null,
   "metadata": {},
   "outputs": [],
   "source": []
  },
  {
   "cell_type": "code",
   "execution_count": null,
   "metadata": {},
   "outputs": [],
   "source": []
  },
  {
   "cell_type": "code",
   "execution_count": null,
   "metadata": {},
   "outputs": [],
   "source": []
  },
  {
   "cell_type": "code",
   "execution_count": null,
   "metadata": {},
   "outputs": [],
   "source": []
  },
  {
   "cell_type": "code",
   "execution_count": null,
   "metadata": {},
   "outputs": [],
   "source": []
  },
  {
   "cell_type": "code",
   "execution_count": null,
   "metadata": {},
   "outputs": [],
   "source": []
  },
  {
   "attachments": {},
   "cell_type": "markdown",
   "metadata": {},
   "source": [
    "Homology Conversion"
   ]
  },
  {
   "cell_type": "code",
   "execution_count": null,
   "metadata": {},
   "outputs": [],
   "source": [
    "def _explode_complexes(resource: pd.DataFrame,\n",
    "                       target: str ='source',\n",
    "                       source: str ='target') -> pd.DataFrame:\n",
    "    resource['key'] = resource[SOURCE] + '|' + resource[TARGET]\n",
    "    resource = (resource.set_index('interaction')\n",
    "                .apply(lambda x: x.str.split('_'))\n",
    "                .explode([TARGET])\n",
    "                .explode(SOURCE)\n",
    "                .reset_index()\n",
    "                )\n",
    "    resource[[f'{SOURCE}_complex', f'{TARGET}_complex']] = resource[\n",
    "        'interaction'].str.split('|', expand=True)\n",
    "\n",
    "    return resource"
   ]
  },
  {
   "cell_type": "code",
   "execution_count": null,
   "metadata": {},
   "outputs": [],
   "source": [
    "def _rebuild_complexes(df, group_cols, target_col):\n",
    "    df = resource.copy()\n",
    "    df_grouped = resource.groupby(group_cols)['target'].agg(lambda x: '_'.join(map(str, x))).reset_index()\n",
    "    df = df.drop('target', axis=1).merge(df_grouped, on=list(np.setdiff1d(group_cols, target_col)), how='inner')\n",
    "    df = df.drop(f'{target_col}_complex', axis=1).rename({'target':f'{target_col}_complex'}, axis=1)\n",
    "    \n",
    "    return df"
   ]
  },
  {
   "cell_type": "code",
   "execution_count": null,
   "metadata": {},
   "outputs": [],
   "source": []
  },
  {
   "cell_type": "code",
   "execution_count": null,
   "metadata": {},
   "outputs": [],
   "source": [
    "map_df = download_homologene('9606', '10090')"
   ]
  },
  {
   "cell_type": "code",
   "execution_count": null,
   "metadata": {},
   "outputs": [],
   "source": [
    "map_df"
   ]
  },
  {
   "cell_type": "code",
   "execution_count": null,
   "metadata": {},
   "outputs": [],
   "source": []
  },
  {
   "cell_type": "code",
   "execution_count": null,
   "metadata": {},
   "outputs": [],
   "source": [
    "resource = li.resource.select_resource()"
   ]
  },
  {
   "cell_type": "code",
   "execution_count": null,
   "metadata": {},
   "outputs": [],
   "source": [
    "resource = li.resource.explode_complexes(resource)\n",
    "# map_df = dict(zip(map_df['source'], map_df['target']))"
   ]
  },
  {
   "cell_type": "code",
   "execution_count": null,
   "metadata": {},
   "outputs": [],
   "source": [
    "resource"
   ]
  },
  {
   "cell_type": "code",
   "execution_count": null,
   "metadata": {},
   "outputs": [],
   "source": []
  },
  {
   "cell_type": "code",
   "execution_count": null,
   "metadata": {},
   "outputs": [],
   "source": [
    "resource = resource.merge(map_df, left_on='receptor', right_on='source', how='inner').drop(['source'], axis=1)\n",
    "resource = _rebuild_complexes(resource, ['interaction', 'ligand'], 'receptor')"
   ]
  },
  {
   "cell_type": "code",
   "execution_count": null,
   "metadata": {},
   "outputs": [],
   "source": [
    "resource"
   ]
  },
  {
   "cell_type": "code",
   "execution_count": null,
   "metadata": {},
   "outputs": [],
   "source": []
  },
  {
   "cell_type": "code",
   "execution_count": null,
   "metadata": {},
   "outputs": [],
   "source": []
  },
  {
   "cell_type": "code",
   "execution_count": null,
   "metadata": {},
   "outputs": [],
   "source": [
    "resource = resource.merge(map_df, left_on='ligand', right_on='source', how='inner').drop(['source'], axis=1)\n",
    "resource = _rebuild_complexes(resource, ['interaction', 'receptor'], 'ligand')"
   ]
  },
  {
   "cell_type": "code",
   "execution_count": null,
   "metadata": {},
   "outputs": [],
   "source": [
    "resource"
   ]
  },
  {
   "cell_type": "code",
   "execution_count": null,
   "metadata": {},
   "outputs": [],
   "source": []
  },
  {
   "cell_type": "code",
   "execution_count": null,
   "metadata": {},
   "outputs": [],
   "source": [
    "# remove duplicates (1:many mappings)\n",
    "resource = resource.drop_duplicates(['interaction']).drop(['interaction'], axis=1)"
   ]
  },
  {
   "cell_type": "code",
   "execution_count": null,
   "metadata": {},
   "outputs": [],
   "source": [
    "resource"
   ]
  },
  {
   "cell_type": "code",
   "execution_count": null,
   "metadata": {},
   "outputs": [],
   "source": []
  },
  {
   "attachments": {},
   "cell_type": "markdown",
   "metadata": {},
   "source": [
    "Only keep full complexes"
   ]
  },
  {
   "cell_type": "code",
   "execution_count": null,
   "metadata": {},
   "outputs": [],
   "source": [
    "map_df = download_homologene('9606', '10090')"
   ]
  },
  {
   "cell_type": "code",
   "execution_count": null,
   "metadata": {},
   "outputs": [],
   "source": [
    "resource = li.resource.select_resource()\n",
    "resource = li.resource.explode_complexes(resource)\n",
    "resource = resource.merge(map_df, left_on='receptor', right_on='source', how='inner').drop(['source'], axis=1)"
   ]
  },
  {
   "cell_type": "code",
   "execution_count": null,
   "metadata": {},
   "outputs": [],
   "source": []
  },
  {
   "cell_type": "code",
   "execution_count": null,
   "metadata": {},
   "outputs": [],
   "source": [
    "group_cols = ['interaction', 'ligand']\n",
    "target = 'receptor'"
   ]
  },
  {
   "cell_type": "code",
   "execution_count": null,
   "metadata": {},
   "outputs": [],
   "source": [
    "resource"
   ]
  },
  {
   "cell_type": "code",
   "execution_count": null,
   "metadata": {},
   "outputs": [],
   "source": []
  },
  {
   "cell_type": "code",
   "execution_count": null,
   "metadata": {},
   "outputs": [],
   "source": [
    "df = resource.copy()\n",
    "\n",
    "df_grouped = resource.groupby(group_cols)['target'].agg(lambda x: '_'.join(map(str, x))).reset_index()"
   ]
  },
  {
   "cell_type": "code",
   "execution_count": null,
   "metadata": {},
   "outputs": [],
   "source": [
    "df_grouped"
   ]
  },
  {
   "cell_type": "code",
   "execution_count": null,
   "metadata": {},
   "outputs": [],
   "source": []
  },
  {
   "cell_type": "code",
   "execution_count": null,
   "metadata": {},
   "outputs": [],
   "source": [
    "# cplex_table['subunits2']"
   ]
  },
  {
   "cell_type": "code",
   "execution_count": null,
   "metadata": {},
   "outputs": [],
   "source": []
  }
 ],
 "metadata": {
  "kernelspec": {
   "display_name": "spiana",
   "language": "python",
   "name": "spiana"
  },
  "language_info": {
   "codemirror_mode": {
    "name": "ipython",
    "version": 3
   },
   "file_extension": ".py",
   "mimetype": "text/x-python",
   "name": "python",
   "nbconvert_exporter": "python",
   "pygments_lexer": "ipython3",
   "version": "3.10.10"
  },
  "orig_nbformat": 4,
  "vscode": {
   "interpreter": {
    "hash": "f9f85f796d01129d0dd105a088854619f454435301f6ffec2fea96ecbd9be4ac"
   }
  }
 },
 "nbformat": 4,
 "nbformat_minor": 2
}
