{
 "cells": [
  {
   "cell_type": "code",
   "execution_count": 1,
   "metadata": {},
   "outputs": [
    {
     "name": "stderr",
     "output_type": "stream",
     "text": [
      "/home/dbdimitrov/anaconda3/envs/spiana/lib/python3.10/site-packages/tqdm/auto.py:21: TqdmWarning: IProgress not found. Please update jupyter and ipywidgets. See https://ipywidgets.readthedocs.io/en/stable/user_install.html\n",
      "  from .autonotebook import tqdm as notebook_tqdm\n"
     ]
    }
   ],
   "source": [
    "import omnipath\n",
    "from omnipath._core.downloader._downloader import Downloader"
   ]
  },
  {
   "cell_type": "code",
   "execution_count": 2,
   "metadata": {},
   "outputs": [],
   "source": [
    "import liana as li"
   ]
  },
  {
   "cell_type": "code",
   "execution_count": 3,
   "metadata": {},
   "outputs": [],
   "source": [
    "import pandas as pd\n",
    "import numpy as np"
   ]
  },
  {
   "cell_type": "code",
   "execution_count": 4,
   "metadata": {},
   "outputs": [],
   "source": [
    "dnwld = Downloader()"
   ]
  },
  {
   "cell_type": "code",
   "execution_count": null,
   "metadata": {},
   "outputs": [],
   "source": []
  },
  {
   "cell_type": "code",
   "execution_count": 5,
   "metadata": {},
   "outputs": [],
   "source": [
    "# Show homologues available\n",
    "RAW_TAXA_URL = \"https://raw.githubusercontent.com/oganm/homologene/master/data-raw/taxData.tsv\"\n",
    "HOMOLOGENE_URL = \"https://raw.githubusercontent.com/oganm/homologene/master/data-raw/homologene2.tsv\"\n",
    "CPLEX_PREFIX = 'COMPLEX:'"
   ]
  },
  {
   "cell_type": "code",
   "execution_count": null,
   "metadata": {},
   "outputs": [],
   "source": []
  },
  {
   "cell_type": "code",
   "execution_count": 6,
   "metadata": {},
   "outputs": [],
   "source": [
    "def show_homologene():\n",
    "    return dnwld.maybe_download(RAW_TAXA_URL, callback=pd.read_table)"
   ]
  },
  {
   "cell_type": "code",
   "execution_count": 7,
   "metadata": {},
   "outputs": [
    {
     "data": {
      "text/html": [
       "<div>\n",
       "<style scoped>\n",
       "    .dataframe tbody tr th:only-of-type {\n",
       "        vertical-align: middle;\n",
       "    }\n",
       "\n",
       "    .dataframe tbody tr th {\n",
       "        vertical-align: top;\n",
       "    }\n",
       "\n",
       "    .dataframe thead th {\n",
       "        text-align: right;\n",
       "    }\n",
       "</style>\n",
       "<table border=\"1\" class=\"dataframe\">\n",
       "  <thead>\n",
       "    <tr style=\"text-align: right;\">\n",
       "      <th></th>\n",
       "      <th>tax_id</th>\n",
       "      <th>name_txt</th>\n",
       "    </tr>\n",
       "  </thead>\n",
       "  <tbody>\n",
       "    <tr>\n",
       "      <th>0</th>\n",
       "      <td>10090</td>\n",
       "      <td>Mus musculus</td>\n",
       "    </tr>\n",
       "    <tr>\n",
       "      <th>1</th>\n",
       "      <td>10116</td>\n",
       "      <td>Rattus norvegicus</td>\n",
       "    </tr>\n",
       "    <tr>\n",
       "      <th>2</th>\n",
       "      <td>28985</td>\n",
       "      <td>Kluyveromyces lactis</td>\n",
       "    </tr>\n",
       "    <tr>\n",
       "      <th>3</th>\n",
       "      <td>318829</td>\n",
       "      <td>Magnaporthe oryzae</td>\n",
       "    </tr>\n",
       "    <tr>\n",
       "      <th>4</th>\n",
       "      <td>33169</td>\n",
       "      <td>Eremothecium gossypii</td>\n",
       "    </tr>\n",
       "    <tr>\n",
       "      <th>5</th>\n",
       "      <td>3702</td>\n",
       "      <td>Arabidopsis thaliana</td>\n",
       "    </tr>\n",
       "    <tr>\n",
       "      <th>6</th>\n",
       "      <td>4530</td>\n",
       "      <td>Oryza sativa</td>\n",
       "    </tr>\n",
       "    <tr>\n",
       "      <th>7</th>\n",
       "      <td>4896</td>\n",
       "      <td>Schizosaccharomyces pombe</td>\n",
       "    </tr>\n",
       "    <tr>\n",
       "      <th>8</th>\n",
       "      <td>4932</td>\n",
       "      <td>Saccharomyces cerevisiae</td>\n",
       "    </tr>\n",
       "    <tr>\n",
       "      <th>9</th>\n",
       "      <td>5141</td>\n",
       "      <td>Neurospora crassa</td>\n",
       "    </tr>\n",
       "    <tr>\n",
       "      <th>10</th>\n",
       "      <td>6239</td>\n",
       "      <td>Caenorhabditis elegans</td>\n",
       "    </tr>\n",
       "    <tr>\n",
       "      <th>11</th>\n",
       "      <td>7165</td>\n",
       "      <td>Anopheles gambiae</td>\n",
       "    </tr>\n",
       "    <tr>\n",
       "      <th>12</th>\n",
       "      <td>7227</td>\n",
       "      <td>Drosophila melanogaster</td>\n",
       "    </tr>\n",
       "    <tr>\n",
       "      <th>13</th>\n",
       "      <td>7955</td>\n",
       "      <td>Danio rerio</td>\n",
       "    </tr>\n",
       "    <tr>\n",
       "      <th>14</th>\n",
       "      <td>8364</td>\n",
       "      <td>Xenopus (Silurana) tropicalis</td>\n",
       "    </tr>\n",
       "    <tr>\n",
       "      <th>15</th>\n",
       "      <td>9031</td>\n",
       "      <td>Gallus gallus</td>\n",
       "    </tr>\n",
       "    <tr>\n",
       "      <th>16</th>\n",
       "      <td>9544</td>\n",
       "      <td>Macaca mulatta</td>\n",
       "    </tr>\n",
       "    <tr>\n",
       "      <th>17</th>\n",
       "      <td>9598</td>\n",
       "      <td>Pan troglodytes</td>\n",
       "    </tr>\n",
       "    <tr>\n",
       "      <th>18</th>\n",
       "      <td>9606</td>\n",
       "      <td>Homo sapiens</td>\n",
       "    </tr>\n",
       "    <tr>\n",
       "      <th>19</th>\n",
       "      <td>9615</td>\n",
       "      <td>Canis lupus familiaris</td>\n",
       "    </tr>\n",
       "    <tr>\n",
       "      <th>20</th>\n",
       "      <td>9913</td>\n",
       "      <td>Bos taurus</td>\n",
       "    </tr>\n",
       "  </tbody>\n",
       "</table>\n",
       "</div>"
      ],
      "text/plain": [
       "    tax_id                       name_txt\n",
       "0    10090                   Mus musculus\n",
       "1    10116              Rattus norvegicus\n",
       "2    28985           Kluyveromyces lactis\n",
       "3   318829             Magnaporthe oryzae\n",
       "4    33169          Eremothecium gossypii\n",
       "5     3702           Arabidopsis thaliana\n",
       "6     4530                   Oryza sativa\n",
       "7     4896      Schizosaccharomyces pombe\n",
       "8     4932       Saccharomyces cerevisiae\n",
       "9     5141              Neurospora crassa\n",
       "10    6239         Caenorhabditis elegans\n",
       "11    7165              Anopheles gambiae\n",
       "12    7227        Drosophila melanogaster\n",
       "13    7955                    Danio rerio\n",
       "14    8364  Xenopus (Silurana) tropicalis\n",
       "15    9031                  Gallus gallus\n",
       "16    9544                 Macaca mulatta\n",
       "17    9598                Pan troglodytes\n",
       "18    9606                   Homo sapiens\n",
       "19    9615         Canis lupus familiaris\n",
       "20    9913                     Bos taurus"
      ]
     },
     "execution_count": 7,
     "metadata": {},
     "output_type": "execute_result"
    }
   ],
   "source": [
    "show_homologene()"
   ]
  },
  {
   "cell_type": "code",
   "execution_count": 8,
   "metadata": {},
   "outputs": [],
   "source": [
    "# omnipath.clear_cache()"
   ]
  },
  {
   "cell_type": "code",
   "execution_count": null,
   "metadata": {},
   "outputs": [],
   "source": []
  },
  {
   "attachments": {},
   "cell_type": "markdown",
   "metadata": {},
   "source": [
    "Homologene Download function"
   ]
  },
  {
   "cell_type": "code",
   "execution_count": 9,
   "metadata": {},
   "outputs": [],
   "source": [
    "def _get_homologene_raw(): \n",
    "    homologene = (dnwld.maybe_download(HOMOLOGENE_URL,\n",
    "                                     callback=pd.read_table,\n",
    "                                     ).\n",
    "                  astype(str).\n",
    "                  rename(columns={\"Gene.Symbol\": \"genesymbol\",\n",
    "                                   \"Gene.ID\":'gene_id',\n",
    "                                   \"Taxonomy\":'ncbi_taxid',\n",
    "                                   \"HID\":'hid'}).\n",
    "                  set_index(\"hid\")\n",
    "                  )\n",
    "    return homologene"
   ]
  },
  {
   "cell_type": "code",
   "execution_count": 10,
   "metadata": {},
   "outputs": [],
   "source": [
    "homologene = _get_homologene_raw()"
   ]
  },
  {
   "cell_type": "code",
   "execution_count": 11,
   "metadata": {},
   "outputs": [
    {
     "data": {
      "text/html": [
       "<div>\n",
       "<style scoped>\n",
       "    .dataframe tbody tr th:only-of-type {\n",
       "        vertical-align: middle;\n",
       "    }\n",
       "\n",
       "    .dataframe tbody tr th {\n",
       "        vertical-align: top;\n",
       "    }\n",
       "\n",
       "    .dataframe thead th {\n",
       "        text-align: right;\n",
       "    }\n",
       "</style>\n",
       "<table border=\"1\" class=\"dataframe\">\n",
       "  <thead>\n",
       "    <tr style=\"text-align: right;\">\n",
       "      <th></th>\n",
       "      <th>genesymbol</th>\n",
       "      <th>ncbi_taxid</th>\n",
       "      <th>gene_id</th>\n",
       "    </tr>\n",
       "    <tr>\n",
       "      <th>hid</th>\n",
       "      <th></th>\n",
       "      <th></th>\n",
       "      <th></th>\n",
       "    </tr>\n",
       "  </thead>\n",
       "  <tbody>\n",
       "    <tr>\n",
       "      <th>3</th>\n",
       "      <td>ACADM</td>\n",
       "      <td>9606</td>\n",
       "      <td>34</td>\n",
       "    </tr>\n",
       "    <tr>\n",
       "      <th>3</th>\n",
       "      <td>ACADM</td>\n",
       "      <td>9598</td>\n",
       "      <td>469356</td>\n",
       "    </tr>\n",
       "    <tr>\n",
       "      <th>3</th>\n",
       "      <td>ACADM</td>\n",
       "      <td>9544</td>\n",
       "      <td>705168</td>\n",
       "    </tr>\n",
       "    <tr>\n",
       "      <th>3</th>\n",
       "      <td>ACADM</td>\n",
       "      <td>9615</td>\n",
       "      <td>490207</td>\n",
       "    </tr>\n",
       "    <tr>\n",
       "      <th>3</th>\n",
       "      <td>ACADM</td>\n",
       "      <td>9913</td>\n",
       "      <td>505968</td>\n",
       "    </tr>\n",
       "  </tbody>\n",
       "</table>\n",
       "</div>"
      ],
      "text/plain": [
       "    genesymbol ncbi_taxid gene_id\n",
       "hid                              \n",
       "3        ACADM       9606      34\n",
       "3        ACADM       9598  469356\n",
       "3        ACADM       9544  705168\n",
       "3        ACADM       9615  490207\n",
       "3        ACADM       9913  505968"
      ]
     },
     "execution_count": 11,
     "metadata": {},
     "output_type": "execute_result"
    }
   ],
   "source": [
    "homologene.head()"
   ]
  },
  {
   "cell_type": "code",
   "execution_count": null,
   "metadata": {},
   "outputs": [],
   "source": []
  },
  {
   "cell_type": "code",
   "execution_count": 12,
   "metadata": {},
   "outputs": [],
   "source": [
    "def download_homologene(source_organism, target_organism, id_type='genesymbol'):\n",
    "    \"\"\"\n",
    "    Download homologene information for a given source and target organism.\n",
    "    \n",
    "    Parameters\n",
    "    ----------\n",
    "    source_organism : str\n",
    "        Source organism name.\n",
    "    target_organism : str\n",
    "        Target organism name.\n",
    "    id_type : str\n",
    "        Type of ID to use for homology conversion. Can be one of 'genesymbol', 'gene_id'.\n",
    "        \n",
    "    Returns\n",
    "    -------\n",
    "    A pandas DataFrame with homologene information.\n",
    "    \n",
    "    \"\"\"\n",
    "    \n",
    "    homologene = _get_homologene_raw()\n",
    "    \n",
    "    source_df = homologene[(homologene['ncbi_taxid'] == source_organism)][[id_type]]\n",
    "    target_df = homologene[(homologene['ncbi_taxid'] == target_organism)][[id_type]]\n",
    "\n",
    "    homologene = pd.merge(source_df, target_df,\n",
    "                          right_index=True, left_index=True,\n",
    "                          suffixes=('_source', '_target'),\n",
    "                          how='inner')\n",
    "    homologene = homologene.reset_index().rename({f'{id_type}_source':'source',\n",
    "                                                  f'{id_type}_target':'target'}, axis=1)\n",
    "    homologene = homologene[['source', 'target']]\n",
    "    \n",
    "    return homologene"
   ]
  },
  {
   "cell_type": "code",
   "execution_count": null,
   "metadata": {},
   "outputs": [],
   "source": []
  },
  {
   "cell_type": "code",
   "execution_count": 13,
   "metadata": {},
   "outputs": [],
   "source": [
    "resource = li.resource.select_resource()\n",
    "# resource = resource[resource['receptor'].str.contains('_')]"
   ]
  },
  {
   "cell_type": "code",
   "execution_count": null,
   "metadata": {},
   "outputs": [],
   "source": []
  },
  {
   "attachments": {},
   "cell_type": "markdown",
   "metadata": {},
   "source": [
    "Simplify fun, to be done by a single-column at a time"
   ]
  },
  {
   "cell_type": "code",
   "execution_count": 14,
   "metadata": {},
   "outputs": [],
   "source": [
    "import pandas as pd\n",
    "from itertools import product"
   ]
  },
  {
   "cell_type": "code",
   "execution_count": 15,
   "metadata": {},
   "outputs": [],
   "source": [
    "# define a function to replace list elements with dictionary values\n",
    "def _replace_subunits(lst, my_dict, one_to_many=False):\n",
    "    result = []\n",
    "    for x in lst:\n",
    "        if x in my_dict:\n",
    "            value = my_dict[x]\n",
    "            \n",
    "            if not isinstance(value, list):\n",
    "                value = [value]\n",
    "            \n",
    "            if (not one_to_many) & (len(my_dict[x]) > 1):\n",
    "                result.append(np.nan)\n",
    "            else:\n",
    "                result.append(value)\n",
    "        else:\n",
    "            result.append(np.nan)\n",
    "    return result"
   ]
  },
  {
   "cell_type": "code",
   "execution_count": null,
   "metadata": {},
   "outputs": [],
   "source": []
  },
  {
   "cell_type": "code",
   "execution_count": 16,
   "metadata": {},
   "outputs": [],
   "source": [
    "def generate_orthologs(df, receptor_col, subunits_col):\n",
    "    \"\"\"\n",
    "    Group a DataFrame by a receptor column, and generate all possible combinations of subunits\n",
    "    within each group.\n",
    "\n",
    "    Args:\n",
    "        df (pd.DataFrame): the input DataFrame.\n",
    "        receptor_col (str): the name of the column containing the receptor IDs.\n",
    "        subunits_col (str): the name of the column containing the subunit IDs.\n",
    "\n",
    "    Returns:\n",
    "        pd.DataFrame: a DataFrame containing all possible subunit combinations for each receptor.\n",
    "    \"\"\"\n",
    "    grouped = df.groupby(receptor_col)\n",
    "    \n",
    "    # Generate all possible subunit combinations within each group\n",
    "    complexes = []\n",
    "    for name, group in grouped:\n",
    "        if group[subunits_col].isnull().all():\n",
    "            continue\n",
    "        subunit_lists = [list(x) for x in group[subunits_col]]\n",
    "        complex_combinations = list(product(*subunit_lists))\n",
    "        for complex in complex_combinations:\n",
    "            complexes.append((name, '_'.join(complex)))\n",
    "    \n",
    "    # Create output DataFrame\n",
    "    result = pd.DataFrame(complexes, columns=['source', 'target'])\n",
    "    return result"
   ]
  },
  {
   "cell_type": "code",
   "execution_count": null,
   "metadata": {},
   "outputs": [],
   "source": []
  },
  {
   "cell_type": "code",
   "execution_count": null,
   "metadata": {},
   "outputs": [],
   "source": []
  },
  {
   "cell_type": "code",
   "execution_count": 17,
   "metadata": {},
   "outputs": [],
   "source": [
    "map_df = download_homologene('9606', '10090').set_index('source')"
   ]
  },
  {
   "cell_type": "code",
   "execution_count": 18,
   "metadata": {},
   "outputs": [
    {
     "data": {
      "text/html": [
       "<div>\n",
       "<style scoped>\n",
       "    .dataframe tbody tr th:only-of-type {\n",
       "        vertical-align: middle;\n",
       "    }\n",
       "\n",
       "    .dataframe tbody tr th {\n",
       "        vertical-align: top;\n",
       "    }\n",
       "\n",
       "    .dataframe thead th {\n",
       "        text-align: right;\n",
       "    }\n",
       "</style>\n",
       "<table border=\"1\" class=\"dataframe\">\n",
       "  <thead>\n",
       "    <tr style=\"text-align: right;\">\n",
       "      <th></th>\n",
       "      <th>target</th>\n",
       "    </tr>\n",
       "    <tr>\n",
       "      <th>source</th>\n",
       "      <th></th>\n",
       "    </tr>\n",
       "  </thead>\n",
       "  <tbody>\n",
       "    <tr>\n",
       "      <th>ETFA</th>\n",
       "      <td>Etfa</td>\n",
       "    </tr>\n",
       "    <tr>\n",
       "      <th>CLDN4</th>\n",
       "      <td>Cldn4</td>\n",
       "    </tr>\n",
       "    <tr>\n",
       "      <th>HAUS2</th>\n",
       "      <td>Haus2</td>\n",
       "    </tr>\n",
       "    <tr>\n",
       "      <th>EFHC1</th>\n",
       "      <td>Efhc1</td>\n",
       "    </tr>\n",
       "    <tr>\n",
       "      <th>LRRC8D</th>\n",
       "      <td>Lrrc8d</td>\n",
       "    </tr>\n",
       "  </tbody>\n",
       "</table>\n",
       "</div>"
      ],
      "text/plain": [
       "        target\n",
       "source        \n",
       "ETFA      Etfa\n",
       "CLDN4    Cldn4\n",
       "HAUS2    Haus2\n",
       "EFHC1    Efhc1\n",
       "LRRC8D  Lrrc8d"
      ]
     },
     "execution_count": 18,
     "metadata": {},
     "output_type": "execute_result"
    }
   ],
   "source": [
    "map_df.head()"
   ]
  },
  {
   "cell_type": "code",
   "execution_count": null,
   "metadata": {},
   "outputs": [],
   "source": []
  },
  {
   "cell_type": "code",
   "execution_count": 19,
   "metadata": {},
   "outputs": [],
   "source": [
    "map_dict = map_df.groupby(level=0)[\"target\"].apply(list).to_dict()"
   ]
  },
  {
   "cell_type": "code",
   "execution_count": null,
   "metadata": {},
   "outputs": [],
   "source": []
  },
  {
   "cell_type": "code",
   "execution_count": 20,
   "metadata": {},
   "outputs": [],
   "source": [
    "# one_to_many = map_df[(map_df.groupby(level=0).count()['target']>=2)].index\n",
    "# # receptor contains any of the one_to_many\n",
    "# resource = resource[resource['receptor'].str.contains('|'.join(one_to_many))]"
   ]
  },
  {
   "cell_type": "code",
   "execution_count": null,
   "metadata": {},
   "outputs": [],
   "source": []
  },
  {
   "cell_type": "code",
   "execution_count": 21,
   "metadata": {},
   "outputs": [],
   "source": [
    "columns = ['ligand', 'receptor']\n",
    "col = columns[1]"
   ]
  },
  {
   "cell_type": "code",
   "execution_count": null,
   "metadata": {},
   "outputs": [],
   "source": []
  },
  {
   "cell_type": "code",
   "execution_count": null,
   "metadata": {},
   "outputs": [],
   "source": []
  },
  {
   "cell_type": "code",
   "execution_count": 41,
   "metadata": {},
   "outputs": [],
   "source": [
    "cplex_table = resource[[col]].drop_duplicates().set_index(col)\n",
    "# cplex_table = resource[col]?\n",
    "cplex_table['subunits'] = cplex_table.index.str.split('_')"
   ]
  },
  {
   "cell_type": "code",
   "execution_count": 42,
   "metadata": {},
   "outputs": [
    {
     "data": {
      "text/plain": [
       "receptor\n",
       "PTPRC      [[Ptprc]]\n",
       "MET          [[Met]]\n",
       "CD44        [[Cd44]]\n",
       "LRP1        [[Lrp1]]\n",
       "CD47        [[Cd47]]\n",
       "             ...    \n",
       "TMIGD3         [nan]\n",
       "IL20RA    [[Il20ra]]\n",
       "AMHR2      [[Amhr2]]\n",
       "ACTR2      [[Actr2]]\n",
       "IFNAR2    [[Ifnar2]]\n",
       "Name: subunits, Length: 1059, dtype: object"
      ]
     },
     "execution_count": 42,
     "metadata": {},
     "output_type": "execute_result"
    }
   ],
   "source": [
    "# apply the function to the column\n",
    "cplex_table['subunits'].apply(_replace_subunits, args=(map_dict, False,))"
   ]
  },
  {
   "cell_type": "code",
   "execution_count": null,
   "metadata": {},
   "outputs": [],
   "source": []
  },
  {
   "cell_type": "code",
   "execution_count": 43,
   "metadata": {},
   "outputs": [],
   "source": [
    "cplex_table['subunits'] = cplex_table['subunits'].apply(_replace_subunits, args=(map_dict, False,))"
   ]
  },
  {
   "cell_type": "code",
   "execution_count": 44,
   "metadata": {},
   "outputs": [
    {
     "data": {
      "text/html": [
       "<div>\n",
       "<style scoped>\n",
       "    .dataframe tbody tr th:only-of-type {\n",
       "        vertical-align: middle;\n",
       "    }\n",
       "\n",
       "    .dataframe tbody tr th {\n",
       "        vertical-align: top;\n",
       "    }\n",
       "\n",
       "    .dataframe thead th {\n",
       "        text-align: right;\n",
       "    }\n",
       "</style>\n",
       "<table border=\"1\" class=\"dataframe\">\n",
       "  <thead>\n",
       "    <tr style=\"text-align: right;\">\n",
       "      <th></th>\n",
       "      <th>subunits</th>\n",
       "      <th>receptor</th>\n",
       "    </tr>\n",
       "    <tr>\n",
       "      <th>receptor</th>\n",
       "      <th></th>\n",
       "      <th></th>\n",
       "    </tr>\n",
       "  </thead>\n",
       "  <tbody>\n",
       "    <tr>\n",
       "      <th>PTPRC</th>\n",
       "      <td>[PTPRC]</td>\n",
       "      <td>[[Ptprc]]</td>\n",
       "    </tr>\n",
       "    <tr>\n",
       "      <th>MET</th>\n",
       "      <td>[MET]</td>\n",
       "      <td>[[Met]]</td>\n",
       "    </tr>\n",
       "    <tr>\n",
       "      <th>CD44</th>\n",
       "      <td>[CD44]</td>\n",
       "      <td>[[Cd44]]</td>\n",
       "    </tr>\n",
       "    <tr>\n",
       "      <th>LRP1</th>\n",
       "      <td>[LRP1]</td>\n",
       "      <td>[[Lrp1]]</td>\n",
       "    </tr>\n",
       "    <tr>\n",
       "      <th>CD47</th>\n",
       "      <td>[CD47]</td>\n",
       "      <td>[[Cd47]]</td>\n",
       "    </tr>\n",
       "    <tr>\n",
       "      <th>...</th>\n",
       "      <td>...</td>\n",
       "      <td>...</td>\n",
       "    </tr>\n",
       "    <tr>\n",
       "      <th>TMIGD3</th>\n",
       "      <td>[TMIGD3]</td>\n",
       "      <td>[nan]</td>\n",
       "    </tr>\n",
       "    <tr>\n",
       "      <th>IL20RA</th>\n",
       "      <td>[IL20RA]</td>\n",
       "      <td>[[Il20ra]]</td>\n",
       "    </tr>\n",
       "    <tr>\n",
       "      <th>AMHR2</th>\n",
       "      <td>[AMHR2]</td>\n",
       "      <td>[[Amhr2]]</td>\n",
       "    </tr>\n",
       "    <tr>\n",
       "      <th>ACTR2</th>\n",
       "      <td>[ACTR2]</td>\n",
       "      <td>[[Actr2]]</td>\n",
       "    </tr>\n",
       "    <tr>\n",
       "      <th>IFNAR2</th>\n",
       "      <td>[IFNAR2]</td>\n",
       "      <td>[[Ifnar2]]</td>\n",
       "    </tr>\n",
       "  </tbody>\n",
       "</table>\n",
       "<p>1059 rows × 2 columns</p>\n",
       "</div>"
      ],
      "text/plain": [
       "          subunits    receptor\n",
       "receptor                      \n",
       "PTPRC      [PTPRC]   [[Ptprc]]\n",
       "MET          [MET]     [[Met]]\n",
       "CD44        [CD44]    [[Cd44]]\n",
       "LRP1        [LRP1]    [[Lrp1]]\n",
       "CD47        [CD47]    [[Cd47]]\n",
       "...            ...         ...\n",
       "TMIGD3    [TMIGD3]       [nan]\n",
       "IL20RA    [IL20RA]  [[Il20ra]]\n",
       "AMHR2      [AMHR2]   [[Amhr2]]\n",
       "ACTR2      [ACTR2]   [[Actr2]]\n",
       "IFNAR2    [IFNAR2]  [[Ifnar2]]\n",
       "\n",
       "[1059 rows x 2 columns]"
      ]
     },
     "execution_count": 44,
     "metadata": {},
     "output_type": "execute_result"
    }
   ],
   "source": [
    "cplex_table"
   ]
  },
  {
   "cell_type": "code",
   "execution_count": null,
   "metadata": {},
   "outputs": [],
   "source": []
  },
  {
   "cell_type": "code",
   "execution_count": 45,
   "metadata": {},
   "outputs": [
    {
     "data": {
      "text/plain": [
       "1059"
      ]
     },
     "execution_count": 45,
     "metadata": {},
     "output_type": "execute_result"
    }
   ],
   "source": [
    "resource['receptor'].nunique()"
   ]
  },
  {
   "cell_type": "code",
   "execution_count": null,
   "metadata": {},
   "outputs": [],
   "source": []
  },
  {
   "cell_type": "code",
   "execution_count": 46,
   "metadata": {},
   "outputs": [],
   "source": [
    "df = cplex_table['subunits'].explode().reset_index().dropna()"
   ]
  },
  {
   "cell_type": "code",
   "execution_count": 39,
   "metadata": {},
   "outputs": [
    {
     "data": {
      "text/html": [
       "<div>\n",
       "<style scoped>\n",
       "    .dataframe tbody tr th:only-of-type {\n",
       "        vertical-align: middle;\n",
       "    }\n",
       "\n",
       "    .dataframe tbody tr th {\n",
       "        vertical-align: top;\n",
       "    }\n",
       "\n",
       "    .dataframe thead th {\n",
       "        text-align: right;\n",
       "    }\n",
       "</style>\n",
       "<table border=\"1\" class=\"dataframe\">\n",
       "  <thead>\n",
       "    <tr style=\"text-align: right;\">\n",
       "      <th></th>\n",
       "      <th>source</th>\n",
       "      <th>target</th>\n",
       "    </tr>\n",
       "  </thead>\n",
       "  <tbody>\n",
       "    <tr>\n",
       "      <th>0</th>\n",
       "      <td>A1BG</td>\n",
       "      <td>A1bg</td>\n",
       "    </tr>\n",
       "    <tr>\n",
       "      <th>1</th>\n",
       "      <td>ABCA1</td>\n",
       "      <td>Abca1</td>\n",
       "    </tr>\n",
       "    <tr>\n",
       "      <th>2</th>\n",
       "      <td>ACKR1</td>\n",
       "      <td>Ackr1</td>\n",
       "    </tr>\n",
       "    <tr>\n",
       "      <th>3</th>\n",
       "      <td>ACKR2</td>\n",
       "      <td>Ackr2</td>\n",
       "    </tr>\n",
       "    <tr>\n",
       "      <th>4</th>\n",
       "      <td>ACKR3</td>\n",
       "      <td>Ackr3</td>\n",
       "    </tr>\n",
       "    <tr>\n",
       "      <th>...</th>\n",
       "      <td>...</td>\n",
       "      <td>...</td>\n",
       "    </tr>\n",
       "    <tr>\n",
       "      <th>981</th>\n",
       "      <td>VLDLR</td>\n",
       "      <td>Vldlr</td>\n",
       "    </tr>\n",
       "    <tr>\n",
       "      <th>982</th>\n",
       "      <td>VSIG10L</td>\n",
       "      <td>Vsig10l</td>\n",
       "    </tr>\n",
       "    <tr>\n",
       "      <th>983</th>\n",
       "      <td>VSIR</td>\n",
       "      <td>Vsir</td>\n",
       "    </tr>\n",
       "    <tr>\n",
       "      <th>984</th>\n",
       "      <td>XCR1</td>\n",
       "      <td>Xcr1</td>\n",
       "    </tr>\n",
       "    <tr>\n",
       "      <th>985</th>\n",
       "      <td>ZNRF3</td>\n",
       "      <td>Znrf3</td>\n",
       "    </tr>\n",
       "  </tbody>\n",
       "</table>\n",
       "<p>986 rows × 2 columns</p>\n",
       "</div>"
      ],
      "text/plain": [
       "      source   target\n",
       "0       A1BG     A1bg\n",
       "1      ABCA1    Abca1\n",
       "2      ACKR1    Ackr1\n",
       "3      ACKR2    Ackr2\n",
       "4      ACKR3    Ackr3\n",
       "..       ...      ...\n",
       "981    VLDLR    Vldlr\n",
       "982  VSIG10L  Vsig10l\n",
       "983     VSIR     Vsir\n",
       "984     XCR1     Xcr1\n",
       "985    ZNRF3    Znrf3\n",
       "\n",
       "[986 rows x 2 columns]"
      ]
     },
     "execution_count": 39,
     "metadata": {},
     "output_type": "execute_result"
    }
   ],
   "source": [
    "generate_orthologs(df, col, 'subunits').sort_values('source')"
   ]
  },
  {
   "cell_type": "code",
   "execution_count": null,
   "metadata": {},
   "outputs": [],
   "source": []
  },
  {
   "cell_type": "code",
   "execution_count": null,
   "metadata": {},
   "outputs": [],
   "source": []
  },
  {
   "cell_type": "code",
   "execution_count": null,
   "metadata": {},
   "outputs": [],
   "source": []
  },
  {
   "cell_type": "code",
   "execution_count": null,
   "metadata": {},
   "outputs": [],
   "source": []
  },
  {
   "cell_type": "code",
   "execution_count": null,
   "metadata": {},
   "outputs": [],
   "source": []
  },
  {
   "cell_type": "code",
   "execution_count": null,
   "metadata": {},
   "outputs": [],
   "source": []
  },
  {
   "cell_type": "code",
   "execution_count": null,
   "metadata": {},
   "outputs": [],
   "source": []
  },
  {
   "cell_type": "code",
   "execution_count": null,
   "metadata": {},
   "outputs": [],
   "source": []
  },
  {
   "cell_type": "code",
   "execution_count": null,
   "metadata": {},
   "outputs": [],
   "source": []
  },
  {
   "cell_type": "code",
   "execution_count": null,
   "metadata": {},
   "outputs": [],
   "source": []
  },
  {
   "attachments": {},
   "cell_type": "markdown",
   "metadata": {},
   "source": [
    "Homology Conversion"
   ]
  },
  {
   "cell_type": "code",
   "execution_count": null,
   "metadata": {},
   "outputs": [],
   "source": [
    "def _explode_complexes(resource: pd.DataFrame,\n",
    "                       target: str ='source',\n",
    "                       source: str ='target') -> pd.DataFrame:\n",
    "    resource['key'] = resource[SOURCE] + '|' + resource[TARGET]\n",
    "    resource = (resource.set_index('interaction')\n",
    "                .apply(lambda x: x.str.split('_'))\n",
    "                .explode([TARGET])\n",
    "                .explode(SOURCE)\n",
    "                .reset_index()\n",
    "                )\n",
    "    resource[[f'{SOURCE}_complex', f'{TARGET}_complex']] = resource[\n",
    "        'interaction'].str.split('|', expand=True)\n",
    "\n",
    "    return resource"
   ]
  },
  {
   "cell_type": "code",
   "execution_count": null,
   "metadata": {},
   "outputs": [],
   "source": [
    "def _rebuild_complexes(df, group_cols, target_col):\n",
    "    df = resource.copy()\n",
    "    df_grouped = resource.groupby(group_cols)['target'].agg(lambda x: '_'.join(map(str, x))).reset_index()\n",
    "    df = df.drop('target', axis=1).merge(df_grouped, on=list(np.setdiff1d(group_cols, target_col)), how='inner')\n",
    "    df = df.drop(f'{target_col}_complex', axis=1).rename({'target':f'{target_col}_complex'}, axis=1)\n",
    "    \n",
    "    return df"
   ]
  },
  {
   "cell_type": "code",
   "execution_count": null,
   "metadata": {},
   "outputs": [],
   "source": []
  },
  {
   "cell_type": "code",
   "execution_count": null,
   "metadata": {},
   "outputs": [],
   "source": [
    "map_df = download_homologene('9606', '10090')"
   ]
  },
  {
   "cell_type": "code",
   "execution_count": null,
   "metadata": {},
   "outputs": [],
   "source": [
    "map_df"
   ]
  },
  {
   "cell_type": "code",
   "execution_count": null,
   "metadata": {},
   "outputs": [],
   "source": []
  },
  {
   "cell_type": "code",
   "execution_count": null,
   "metadata": {},
   "outputs": [],
   "source": [
    "resource = li.resource.select_resource()"
   ]
  },
  {
   "cell_type": "code",
   "execution_count": null,
   "metadata": {},
   "outputs": [],
   "source": [
    "resource = li.resource.explode_complexes(resource)\n",
    "# map_df = dict(zip(map_df['source'], map_df['target']))"
   ]
  },
  {
   "cell_type": "code",
   "execution_count": null,
   "metadata": {},
   "outputs": [],
   "source": [
    "resource"
   ]
  },
  {
   "cell_type": "code",
   "execution_count": null,
   "metadata": {},
   "outputs": [],
   "source": []
  },
  {
   "cell_type": "code",
   "execution_count": null,
   "metadata": {},
   "outputs": [],
   "source": [
    "resource = resource.merge(map_df, left_on='receptor', right_on='source', how='inner').drop(['source'], axis=1)\n",
    "resource = _rebuild_complexes(resource, ['interaction', 'ligand'], 'receptor')"
   ]
  },
  {
   "cell_type": "code",
   "execution_count": null,
   "metadata": {},
   "outputs": [],
   "source": [
    "resource"
   ]
  },
  {
   "cell_type": "code",
   "execution_count": null,
   "metadata": {},
   "outputs": [],
   "source": []
  },
  {
   "cell_type": "code",
   "execution_count": null,
   "metadata": {},
   "outputs": [],
   "source": []
  },
  {
   "cell_type": "code",
   "execution_count": null,
   "metadata": {},
   "outputs": [],
   "source": [
    "resource = resource.merge(map_df, left_on='ligand', right_on='source', how='inner').drop(['source'], axis=1)\n",
    "resource = _rebuild_complexes(resource, ['interaction', 'receptor'], 'ligand')"
   ]
  },
  {
   "cell_type": "code",
   "execution_count": null,
   "metadata": {},
   "outputs": [],
   "source": [
    "resource"
   ]
  },
  {
   "cell_type": "code",
   "execution_count": null,
   "metadata": {},
   "outputs": [],
   "source": []
  },
  {
   "cell_type": "code",
   "execution_count": null,
   "metadata": {},
   "outputs": [],
   "source": [
    "# remove duplicates (1:many mappings)\n",
    "resource = resource.drop_duplicates(['interaction']).drop(['interaction'], axis=1)"
   ]
  },
  {
   "cell_type": "code",
   "execution_count": null,
   "metadata": {},
   "outputs": [],
   "source": [
    "resource"
   ]
  },
  {
   "cell_type": "code",
   "execution_count": null,
   "metadata": {},
   "outputs": [],
   "source": []
  },
  {
   "attachments": {},
   "cell_type": "markdown",
   "metadata": {},
   "source": [
    "Only keep full complexes"
   ]
  },
  {
   "cell_type": "code",
   "execution_count": null,
   "metadata": {},
   "outputs": [],
   "source": [
    "map_df = download_homologene('9606', '10090')"
   ]
  },
  {
   "cell_type": "code",
   "execution_count": null,
   "metadata": {},
   "outputs": [],
   "source": [
    "resource = li.resource.select_resource()\n",
    "resource = li.resource.explode_complexes(resource)\n",
    "resource = resource.merge(map_df, left_on='receptor', right_on='source', how='inner').drop(['source'], axis=1)"
   ]
  },
  {
   "cell_type": "code",
   "execution_count": null,
   "metadata": {},
   "outputs": [],
   "source": []
  },
  {
   "cell_type": "code",
   "execution_count": null,
   "metadata": {},
   "outputs": [],
   "source": [
    "group_cols = ['interaction', 'ligand']\n",
    "target = 'receptor'"
   ]
  },
  {
   "cell_type": "code",
   "execution_count": null,
   "metadata": {},
   "outputs": [],
   "source": [
    "resource"
   ]
  },
  {
   "cell_type": "code",
   "execution_count": null,
   "metadata": {},
   "outputs": [],
   "source": []
  },
  {
   "cell_type": "code",
   "execution_count": null,
   "metadata": {},
   "outputs": [],
   "source": [
    "df = resource.copy()\n",
    "\n",
    "df_grouped = resource.groupby(group_cols)['target'].agg(lambda x: '_'.join(map(str, x))).reset_index()"
   ]
  },
  {
   "cell_type": "code",
   "execution_count": null,
   "metadata": {},
   "outputs": [],
   "source": [
    "df_grouped"
   ]
  },
  {
   "cell_type": "code",
   "execution_count": null,
   "metadata": {},
   "outputs": [],
   "source": []
  },
  {
   "cell_type": "code",
   "execution_count": null,
   "metadata": {},
   "outputs": [],
   "source": [
    "# cplex_table['subunits2']"
   ]
  },
  {
   "cell_type": "code",
   "execution_count": null,
   "metadata": {},
   "outputs": [],
   "source": []
  }
 ],
 "metadata": {
  "kernelspec": {
   "display_name": "spiana",
   "language": "python",
   "name": "spiana"
  },
  "language_info": {
   "codemirror_mode": {
    "name": "ipython",
    "version": 3
   },
   "file_extension": ".py",
   "mimetype": "text/x-python",
   "name": "python",
   "nbconvert_exporter": "python",
   "pygments_lexer": "ipython3",
   "version": "3.10.10"
  },
  "orig_nbformat": 4,
  "vscode": {
   "interpreter": {
    "hash": "f9f85f796d01129d0dd105a088854619f454435301f6ffec2fea96ecbd9be4ac"
   }
  }
 },
 "nbformat": 4,
 "nbformat_minor": 2
}
