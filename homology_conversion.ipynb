{
 "cells": [
  {
   "cell_type": "code",
   "execution_count": 1,
   "metadata": {},
   "outputs": [
    {
     "name": "stderr",
     "output_type": "stream",
     "text": [
      "/home/dbdimitrov/anaconda3/envs/spiana/lib/python3.10/site-packages/tqdm/auto.py:21: TqdmWarning: IProgress not found. Please update jupyter and ipywidgets. See https://ipywidgets.readthedocs.io/en/stable/user_install.html\n",
      "  from .autonotebook import tqdm as notebook_tqdm\n"
     ]
    }
   ],
   "source": [
    "import omnipath\n",
    "from omnipath._core.utils._homologene import download_homologene, show_homologene"
   ]
  },
  {
   "cell_type": "code",
   "execution_count": 2,
   "metadata": {},
   "outputs": [],
   "source": [
    "import liana as li"
   ]
  },
  {
   "cell_type": "code",
   "execution_count": 3,
   "metadata": {},
   "outputs": [],
   "source": [
    "import pandas as pd\n",
    "import numpy as np\n",
    "from itertools import product"
   ]
  },
  {
   "cell_type": "code",
   "execution_count": null,
   "metadata": {},
   "outputs": [],
   "source": []
  },
  {
   "attachments": {},
   "cell_type": "markdown",
   "metadata": {},
   "source": [
    "Simplify fun, to be done by a single-column at a time"
   ]
  },
  {
   "cell_type": "code",
   "execution_count": 4,
   "metadata": {},
   "outputs": [],
   "source": [
    "import pandas as pd"
   ]
  },
  {
   "cell_type": "code",
   "execution_count": 5,
   "metadata": {},
   "outputs": [],
   "source": [
    "# define a function to replace list elements with dictionary values\n",
    "def _replace_subunits(lst, my_dict, one_to_many=False):\n",
    "    result = []\n",
    "    for x in lst:\n",
    "        if x in my_dict:\n",
    "            value = my_dict[x]\n",
    "            \n",
    "            if not isinstance(value, list):\n",
    "                value = [value]\n",
    "            \n",
    "            # TODO: one_to_many as integer\n",
    "            if (not one_to_many) & (len(my_dict[x]) > 1):\n",
    "                result.append(np.nan)\n",
    "            else:\n",
    "                result.append(value)\n",
    "        else:\n",
    "            result.append(np.nan)\n",
    "    return result"
   ]
  },
  {
   "cell_type": "code",
   "execution_count": null,
   "metadata": {},
   "outputs": [],
   "source": []
  },
  {
   "cell_type": "code",
   "execution_count": 6,
   "metadata": {},
   "outputs": [],
   "source": [
    "def generate_orthologs(data, column, target):\n",
    "    df = data[[column]].drop_duplicates().set_index(column)\n",
    "    \n",
    "    df['subunits'] = df.index.str.split('_')\n",
    "    df['subunits'] = df['subunits'].apply(_replace_subunits, args=(map_dict, False,))\n",
    "    df = df['subunits'].explode().reset_index()\n",
    "    \n",
    "    grouped = df.groupby(column).filter(lambda x: x['subunits'].notna().all()).groupby(column)\n",
    "    \n",
    "    # Generate all possible subunit combinations within each group\n",
    "    complexes = []\n",
    "    for name, group in grouped:\n",
    "        if group[target].isnull().all():\n",
    "            continue\n",
    "        subunit_lists = [list(x) for x in group[target]]\n",
    "        complex_combinations = list(product(*subunit_lists))\n",
    "        for complex in complex_combinations:\n",
    "            complexes.append((name, '_'.join(complex)))\n",
    "    \n",
    "    # Create output DataFrame\n",
    "    result = pd.DataFrame(complexes, columns=['source', 'target']).set_index('source')\n",
    "    \n",
    "    return result"
   ]
  },
  {
   "cell_type": "code",
   "execution_count": 7,
   "metadata": {},
   "outputs": [],
   "source": [
    "resource = li.resource.select_resource()\n",
    "# resource = resource[resource['receptor'].str.contains('_')]"
   ]
  },
  {
   "cell_type": "code",
   "execution_count": null,
   "metadata": {},
   "outputs": [],
   "source": []
  },
  {
   "cell_type": "code",
   "execution_count": 8,
   "metadata": {},
   "outputs": [],
   "source": [
    "data = li.resource.select_resource()\n",
    "# resource = resource[resource['receptor'].str.contains('_')]"
   ]
  },
  {
   "cell_type": "code",
   "execution_count": 9,
   "metadata": {},
   "outputs": [],
   "source": [
    "column = 'receptor'"
   ]
  },
  {
   "cell_type": "code",
   "execution_count": null,
   "metadata": {},
   "outputs": [],
   "source": []
  },
  {
   "cell_type": "code",
   "execution_count": 43,
   "metadata": {},
   "outputs": [],
   "source": [
    "import omnipath as op"
   ]
  },
  {
   "cell_type": "code",
   "execution_count": 44,
   "metadata": {},
   "outputs": [],
   "source": [
    "data = op.requests.Annotations.get(resources='SignaLink_pathway', genesymbols=True)"
   ]
  },
  {
   "cell_type": "code",
   "execution_count": 45,
   "metadata": {},
   "outputs": [],
   "source": [
    "CPLEX_PREFIX = 'COMPLEX:'"
   ]
  },
  {
   "cell_type": "code",
   "execution_count": 46,
   "metadata": {},
   "outputs": [],
   "source": [
    "data['genesymbol'] = data['genesymbol'].replace(CPLEX_PREFIX, '', regex=True)"
   ]
  },
  {
   "cell_type": "code",
   "execution_count": 47,
   "metadata": {},
   "outputs": [],
   "source": [
    "column = 'genesymbol'"
   ]
  },
  {
   "cell_type": "code",
   "execution_count": 48,
   "metadata": {},
   "outputs": [
    {
     "data": {
      "text/html": [
       "<div>\n",
       "<style scoped>\n",
       "    .dataframe tbody tr th:only-of-type {\n",
       "        vertical-align: middle;\n",
       "    }\n",
       "\n",
       "    .dataframe tbody tr th {\n",
       "        vertical-align: top;\n",
       "    }\n",
       "\n",
       "    .dataframe thead th {\n",
       "        text-align: right;\n",
       "    }\n",
       "</style>\n",
       "<table border=\"1\" class=\"dataframe\">\n",
       "  <thead>\n",
       "    <tr style=\"text-align: right;\">\n",
       "      <th></th>\n",
       "      <th>uniprot</th>\n",
       "      <th>genesymbol</th>\n",
       "      <th>entity_type</th>\n",
       "      <th>source</th>\n",
       "      <th>label</th>\n",
       "      <th>value</th>\n",
       "      <th>record_id</th>\n",
       "    </tr>\n",
       "  </thead>\n",
       "  <tbody>\n",
       "    <tr>\n",
       "      <th>0</th>\n",
       "      <td>P20963</td>\n",
       "      <td>CD247</td>\n",
       "      <td>protein</td>\n",
       "      <td>SignaLink_pathway</td>\n",
       "      <td>pathway</td>\n",
       "      <td>T-cell receptor</td>\n",
       "      <td>0</td>\n",
       "    </tr>\n",
       "    <tr>\n",
       "      <th>1</th>\n",
       "      <td>P43403</td>\n",
       "      <td>ZAP70</td>\n",
       "      <td>protein</td>\n",
       "      <td>SignaLink_pathway</td>\n",
       "      <td>pathway</td>\n",
       "      <td>Receptor tyrosine kinase</td>\n",
       "      <td>1</td>\n",
       "    </tr>\n",
       "    <tr>\n",
       "      <th>2</th>\n",
       "      <td>P43403</td>\n",
       "      <td>ZAP70</td>\n",
       "      <td>protein</td>\n",
       "      <td>SignaLink_pathway</td>\n",
       "      <td>pathway</td>\n",
       "      <td>T-cell receptor</td>\n",
       "      <td>2</td>\n",
       "    </tr>\n",
       "    <tr>\n",
       "      <th>3</th>\n",
       "      <td>Q9NYJ8</td>\n",
       "      <td>TAB2</td>\n",
       "      <td>protein</td>\n",
       "      <td>SignaLink_pathway</td>\n",
       "      <td>pathway</td>\n",
       "      <td>Toll-like receptor</td>\n",
       "      <td>3</td>\n",
       "    </tr>\n",
       "    <tr>\n",
       "      <th>4</th>\n",
       "      <td>Q9NYJ8</td>\n",
       "      <td>TAB2</td>\n",
       "      <td>protein</td>\n",
       "      <td>SignaLink_pathway</td>\n",
       "      <td>pathway</td>\n",
       "      <td>Innate immune pathways</td>\n",
       "      <td>4</td>\n",
       "    </tr>\n",
       "    <tr>\n",
       "      <th>...</th>\n",
       "      <td>...</td>\n",
       "      <td>...</td>\n",
       "      <td>...</td>\n",
       "      <td>...</td>\n",
       "      <td>...</td>\n",
       "      <td>...</td>\n",
       "      <td>...</td>\n",
       "    </tr>\n",
       "    <tr>\n",
       "      <th>2482</th>\n",
       "      <td>COMPLEX:P00533_Q15303</td>\n",
       "      <td>EGFR_ERBB4</td>\n",
       "      <td>complex</td>\n",
       "      <td>SignaLink_pathway</td>\n",
       "      <td>pathway</td>\n",
       "      <td>JAK/STAT</td>\n",
       "      <td>2482</td>\n",
       "    </tr>\n",
       "    <tr>\n",
       "      <th>2483</th>\n",
       "      <td>COMPLEX:P00533_Q15303</td>\n",
       "      <td>EGFR_ERBB4</td>\n",
       "      <td>complex</td>\n",
       "      <td>SignaLink_pathway</td>\n",
       "      <td>pathway</td>\n",
       "      <td>Receptor tyrosine kinase</td>\n",
       "      <td>2483</td>\n",
       "    </tr>\n",
       "    <tr>\n",
       "      <th>2484</th>\n",
       "      <td>COMPLEX:P26992_P40189_Q6UWB1</td>\n",
       "      <td>CNTFR_IL27RA_IL6ST</td>\n",
       "      <td>complex</td>\n",
       "      <td>SignaLink_pathway</td>\n",
       "      <td>pathway</td>\n",
       "      <td>JAK/STAT</td>\n",
       "      <td>2484</td>\n",
       "    </tr>\n",
       "    <tr>\n",
       "      <th>2485</th>\n",
       "      <td>COMPLEX:Q06330_Q9Y618</td>\n",
       "      <td>NCOR2_RBPJ</td>\n",
       "      <td>complex</td>\n",
       "      <td>SignaLink_pathway</td>\n",
       "      <td>pathway</td>\n",
       "      <td>Notch</td>\n",
       "      <td>2485</td>\n",
       "    </tr>\n",
       "    <tr>\n",
       "      <th>2486</th>\n",
       "      <td>COMPLEX:P49757_Q96J02</td>\n",
       "      <td>ITCH_NUMB</td>\n",
       "      <td>complex</td>\n",
       "      <td>SignaLink_pathway</td>\n",
       "      <td>pathway</td>\n",
       "      <td>Notch</td>\n",
       "      <td>2486</td>\n",
       "    </tr>\n",
       "  </tbody>\n",
       "</table>\n",
       "<p>2487 rows × 7 columns</p>\n",
       "</div>"
      ],
      "text/plain": [
       "                           uniprot          genesymbol entity_type  \\\n",
       "0                           P20963               CD247     protein   \n",
       "1                           P43403               ZAP70     protein   \n",
       "2                           P43403               ZAP70     protein   \n",
       "3                           Q9NYJ8                TAB2     protein   \n",
       "4                           Q9NYJ8                TAB2     protein   \n",
       "...                            ...                 ...         ...   \n",
       "2482         COMPLEX:P00533_Q15303          EGFR_ERBB4     complex   \n",
       "2483         COMPLEX:P00533_Q15303          EGFR_ERBB4     complex   \n",
       "2484  COMPLEX:P26992_P40189_Q6UWB1  CNTFR_IL27RA_IL6ST     complex   \n",
       "2485         COMPLEX:Q06330_Q9Y618          NCOR2_RBPJ     complex   \n",
       "2486         COMPLEX:P49757_Q96J02           ITCH_NUMB     complex   \n",
       "\n",
       "                 source    label                     value  record_id  \n",
       "0     SignaLink_pathway  pathway           T-cell receptor          0  \n",
       "1     SignaLink_pathway  pathway  Receptor tyrosine kinase          1  \n",
       "2     SignaLink_pathway  pathway           T-cell receptor          2  \n",
       "3     SignaLink_pathway  pathway        Toll-like receptor          3  \n",
       "4     SignaLink_pathway  pathway    Innate immune pathways          4  \n",
       "...                 ...      ...                       ...        ...  \n",
       "2482  SignaLink_pathway  pathway                  JAK/STAT       2482  \n",
       "2483  SignaLink_pathway  pathway  Receptor tyrosine kinase       2483  \n",
       "2484  SignaLink_pathway  pathway                  JAK/STAT       2484  \n",
       "2485  SignaLink_pathway  pathway                     Notch       2485  \n",
       "2486  SignaLink_pathway  pathway                     Notch       2486  \n",
       "\n",
       "[2487 rows x 7 columns]"
      ]
     },
     "execution_count": 48,
     "metadata": {},
     "output_type": "execute_result"
    }
   ],
   "source": [
    "# data = data[data[column].str.contains('ABI1_')]\n",
    "data"
   ]
  },
  {
   "cell_type": "code",
   "execution_count": null,
   "metadata": {},
   "outputs": [],
   "source": []
  },
  {
   "cell_type": "code",
   "execution_count": null,
   "metadata": {},
   "outputs": [],
   "source": []
  },
  {
   "cell_type": "code",
   "execution_count": 49,
   "metadata": {},
   "outputs": [],
   "source": [
    "map_df = download_homologene('9606', '10090').set_index('source')\n",
    "map_dict = map_df.groupby(level=0)[\"target\"].apply(list).to_dict()\n",
    "map_data = generate_orthologs(data, column, 'subunits').sort_values('source')"
   ]
  },
  {
   "cell_type": "code",
   "execution_count": 50,
   "metadata": {},
   "outputs": [
    {
     "data": {
      "text/html": [
       "<div>\n",
       "<style scoped>\n",
       "    .dataframe tbody tr th:only-of-type {\n",
       "        vertical-align: middle;\n",
       "    }\n",
       "\n",
       "    .dataframe tbody tr th {\n",
       "        vertical-align: top;\n",
       "    }\n",
       "\n",
       "    .dataframe thead th {\n",
       "        text-align: right;\n",
       "    }\n",
       "</style>\n",
       "<table border=\"1\" class=\"dataframe\">\n",
       "  <thead>\n",
       "    <tr style=\"text-align: right;\">\n",
       "      <th></th>\n",
       "      <th>target</th>\n",
       "    </tr>\n",
       "    <tr>\n",
       "      <th>source</th>\n",
       "      <th></th>\n",
       "    </tr>\n",
       "  </thead>\n",
       "  <tbody>\n",
       "    <tr>\n",
       "      <th>AATK</th>\n",
       "      <td>Aatk</td>\n",
       "    </tr>\n",
       "    <tr>\n",
       "      <th>ABI1</th>\n",
       "      <td>Abi1</td>\n",
       "    </tr>\n",
       "    <tr>\n",
       "      <th>ABL1</th>\n",
       "      <td>Abl1</td>\n",
       "    </tr>\n",
       "    <tr>\n",
       "      <th>ABL1_DOK1_NCK1_NCK2</th>\n",
       "      <td>Abl1_Dok1_Nck1_Nck2</td>\n",
       "    </tr>\n",
       "    <tr>\n",
       "      <th>ABL2</th>\n",
       "      <td>Abl2</td>\n",
       "    </tr>\n",
       "  </tbody>\n",
       "</table>\n",
       "</div>"
      ],
      "text/plain": [
       "                                  target\n",
       "source                                  \n",
       "AATK                                Aatk\n",
       "ABI1                                Abi1\n",
       "ABL1                                Abl1\n",
       "ABL1_DOK1_NCK1_NCK2  Abl1_Dok1_Nck1_Nck2\n",
       "ABL2                                Abl2"
      ]
     },
     "execution_count": 50,
     "metadata": {},
     "output_type": "execute_result"
    }
   ],
   "source": [
    "map_data.head()"
   ]
  },
  {
   "cell_type": "code",
   "execution_count": null,
   "metadata": {},
   "outputs": [],
   "source": []
  },
  {
   "cell_type": "code",
   "execution_count": 51,
   "metadata": {},
   "outputs": [],
   "source": [
    "data = data.set_index(column).merge(map_data, left_index=True, right_index=True, how='left').reset_index(names=column)\n"
   ]
  },
  {
   "cell_type": "code",
   "execution_count": 52,
   "metadata": {},
   "outputs": [],
   "source": [
    "replace = False\n",
    "keep_untranslated = True"
   ]
  },
  {
   "cell_type": "code",
   "execution_count": 53,
   "metadata": {},
   "outputs": [],
   "source": [
    "if replace:\n",
    "    data[column] = data['target']\n",
    "    data = data.dropna(subset=[column]).drop('target', axis=1)\n",
    "elif keep_untranslated:\n",
    "    data['target'] = data.apply(lambda x: x['target'] if not pd.isnull(x['target']) else x[column], axis=1)"
   ]
  },
  {
   "cell_type": "code",
   "execution_count": 54,
   "metadata": {},
   "outputs": [
    {
     "data": {
      "text/html": [
       "<div>\n",
       "<style scoped>\n",
       "    .dataframe tbody tr th:only-of-type {\n",
       "        vertical-align: middle;\n",
       "    }\n",
       "\n",
       "    .dataframe tbody tr th {\n",
       "        vertical-align: top;\n",
       "    }\n",
       "\n",
       "    .dataframe thead th {\n",
       "        text-align: right;\n",
       "    }\n",
       "</style>\n",
       "<table border=\"1\" class=\"dataframe\">\n",
       "  <thead>\n",
       "    <tr style=\"text-align: right;\">\n",
       "      <th></th>\n",
       "      <th>genesymbol</th>\n",
       "      <th>uniprot</th>\n",
       "      <th>entity_type</th>\n",
       "      <th>source</th>\n",
       "      <th>label</th>\n",
       "      <th>value</th>\n",
       "      <th>record_id</th>\n",
       "      <th>target</th>\n",
       "    </tr>\n",
       "  </thead>\n",
       "  <tbody>\n",
       "    <tr>\n",
       "      <th>0</th>\n",
       "      <td>AATK</td>\n",
       "      <td>Q6ZMQ8</td>\n",
       "      <td>protein</td>\n",
       "      <td>SignaLink_pathway</td>\n",
       "      <td>pathway</td>\n",
       "      <td>Receptor tyrosine kinase</td>\n",
       "      <td>1010</td>\n",
       "      <td>Aatk</td>\n",
       "    </tr>\n",
       "    <tr>\n",
       "      <th>1</th>\n",
       "      <td>ABI1</td>\n",
       "      <td>Q8IZP0</td>\n",
       "      <td>protein</td>\n",
       "      <td>SignaLink_pathway</td>\n",
       "      <td>pathway</td>\n",
       "      <td>Receptor tyrosine kinase</td>\n",
       "      <td>1026</td>\n",
       "      <td>Abi1</td>\n",
       "    </tr>\n",
       "    <tr>\n",
       "      <th>2</th>\n",
       "      <td>ABI1_WASL</td>\n",
       "      <td>COMPLEX:O00401_Q8IZP0</td>\n",
       "      <td>complex</td>\n",
       "      <td>SignaLink_pathway</td>\n",
       "      <td>pathway</td>\n",
       "      <td>Receptor tyrosine kinase</td>\n",
       "      <td>1237</td>\n",
       "      <td>ABI1_WASL</td>\n",
       "    </tr>\n",
       "    <tr>\n",
       "      <th>3</th>\n",
       "      <td>ABL1</td>\n",
       "      <td>P00519</td>\n",
       "      <td>protein</td>\n",
       "      <td>SignaLink_pathway</td>\n",
       "      <td>pathway</td>\n",
       "      <td>Receptor tyrosine kinase</td>\n",
       "      <td>96</td>\n",
       "      <td>Abl1</td>\n",
       "    </tr>\n",
       "    <tr>\n",
       "      <th>4</th>\n",
       "      <td>ABL1</td>\n",
       "      <td>COMPLEX:P00519</td>\n",
       "      <td>complex</td>\n",
       "      <td>SignaLink_pathway</td>\n",
       "      <td>pathway</td>\n",
       "      <td>Receptor tyrosine kinase</td>\n",
       "      <td>1643</td>\n",
       "      <td>Abl1</td>\n",
       "    </tr>\n",
       "    <tr>\n",
       "      <th>...</th>\n",
       "      <td>...</td>\n",
       "      <td>...</td>\n",
       "      <td>...</td>\n",
       "      <td>...</td>\n",
       "      <td>...</td>\n",
       "      <td>...</td>\n",
       "      <td>...</td>\n",
       "      <td>...</td>\n",
       "    </tr>\n",
       "    <tr>\n",
       "      <th>2482</th>\n",
       "      <td>ZAP70</td>\n",
       "      <td>P43403</td>\n",
       "      <td>protein</td>\n",
       "      <td>SignaLink_pathway</td>\n",
       "      <td>pathway</td>\n",
       "      <td>Receptor tyrosine kinase</td>\n",
       "      <td>1</td>\n",
       "      <td>Zap70</td>\n",
       "    </tr>\n",
       "    <tr>\n",
       "      <th>2483</th>\n",
       "      <td>ZAP70</td>\n",
       "      <td>P43403</td>\n",
       "      <td>protein</td>\n",
       "      <td>SignaLink_pathway</td>\n",
       "      <td>pathway</td>\n",
       "      <td>T-cell receptor</td>\n",
       "      <td>2</td>\n",
       "      <td>Zap70</td>\n",
       "    </tr>\n",
       "    <tr>\n",
       "      <th>2484</th>\n",
       "      <td>ZFP36</td>\n",
       "      <td>P26651</td>\n",
       "      <td>protein</td>\n",
       "      <td>SignaLink_pathway</td>\n",
       "      <td>pathway</td>\n",
       "      <td>Receptor tyrosine kinase</td>\n",
       "      <td>721</td>\n",
       "      <td>Zfp36</td>\n",
       "    </tr>\n",
       "    <tr>\n",
       "      <th>2485</th>\n",
       "      <td>ZFYVE9</td>\n",
       "      <td>O95405</td>\n",
       "      <td>protein</td>\n",
       "      <td>SignaLink_pathway</td>\n",
       "      <td>pathway</td>\n",
       "      <td>TGF</td>\n",
       "      <td>398</td>\n",
       "      <td>Zfyve9</td>\n",
       "    </tr>\n",
       "    <tr>\n",
       "      <th>2486</th>\n",
       "      <td>ZRANB2</td>\n",
       "      <td>O95218</td>\n",
       "      <td>protein</td>\n",
       "      <td>SignaLink_pathway</td>\n",
       "      <td>pathway</td>\n",
       "      <td>TGF</td>\n",
       "      <td>702</td>\n",
       "      <td>ZRANB2</td>\n",
       "    </tr>\n",
       "  </tbody>\n",
       "</table>\n",
       "<p>2487 rows × 8 columns</p>\n",
       "</div>"
      ],
      "text/plain": [
       "     genesymbol                uniprot entity_type             source  \\\n",
       "0          AATK                 Q6ZMQ8     protein  SignaLink_pathway   \n",
       "1          ABI1                 Q8IZP0     protein  SignaLink_pathway   \n",
       "2     ABI1_WASL  COMPLEX:O00401_Q8IZP0     complex  SignaLink_pathway   \n",
       "3          ABL1                 P00519     protein  SignaLink_pathway   \n",
       "4          ABL1         COMPLEX:P00519     complex  SignaLink_pathway   \n",
       "...         ...                    ...         ...                ...   \n",
       "2482      ZAP70                 P43403     protein  SignaLink_pathway   \n",
       "2483      ZAP70                 P43403     protein  SignaLink_pathway   \n",
       "2484      ZFP36                 P26651     protein  SignaLink_pathway   \n",
       "2485     ZFYVE9                 O95405     protein  SignaLink_pathway   \n",
       "2486     ZRANB2                 O95218     protein  SignaLink_pathway   \n",
       "\n",
       "        label                     value  record_id     target  \n",
       "0     pathway  Receptor tyrosine kinase       1010       Aatk  \n",
       "1     pathway  Receptor tyrosine kinase       1026       Abi1  \n",
       "2     pathway  Receptor tyrosine kinase       1237  ABI1_WASL  \n",
       "3     pathway  Receptor tyrosine kinase         96       Abl1  \n",
       "4     pathway  Receptor tyrosine kinase       1643       Abl1  \n",
       "...       ...                       ...        ...        ...  \n",
       "2482  pathway  Receptor tyrosine kinase          1      Zap70  \n",
       "2483  pathway           T-cell receptor          2      Zap70  \n",
       "2484  pathway  Receptor tyrosine kinase        721      Zfp36  \n",
       "2485  pathway                       TGF        398     Zfyve9  \n",
       "2486  pathway                       TGF        702     ZRANB2  \n",
       "\n",
       "[2487 rows x 8 columns]"
      ]
     },
     "execution_count": 54,
     "metadata": {},
     "output_type": "execute_result"
    }
   ],
   "source": [
    "data"
   ]
  },
  {
   "cell_type": "code",
   "execution_count": null,
   "metadata": {},
   "outputs": [],
   "source": []
  },
  {
   "cell_type": "code",
   "execution_count": null,
   "metadata": {},
   "outputs": [],
   "source": []
  },
  {
   "cell_type": "code",
   "execution_count": null,
   "metadata": {},
   "outputs": [],
   "source": []
  },
  {
   "cell_type": "code",
   "execution_count": null,
   "metadata": {},
   "outputs": [],
   "source": [
    "def orthology_translate_column(data, column, id_type, target_organism, keep_untranslated=False, source_organism=9606, one_to_many=False):\n",
    "    # get orthologs\n",
    "    source_organism, target_organism = str(source_organism), str(target_organism)\n",
    "    map_df = download_homologene(source_organism, target_organism, id_type).set_index('source')\n",
    "    map_dict = map_df.groupby(level=0)[\"target\"].apply(list).to_dict()\n",
    "    map_data = generate_orthologs(data, column, 'subunits').sort_values('source')\n",
    "    \n",
    "    # join orthologs\n",
    "    data = (data.set_index(column).\n",
    "            merge(map_data, left_index=True, right_index=True, how='left').\n",
    "            reset_index(names=column)\n",
    "            )\n",
    "\n",
    "    \n",
    "    \n",
    "    return data"
   ]
  },
  {
   "cell_type": "code",
   "execution_count": null,
   "metadata": {},
   "outputs": [],
   "source": []
  },
  {
   "cell_type": "code",
   "execution_count": null,
   "metadata": {},
   "outputs": [],
   "source": []
  },
  {
   "cell_type": "code",
   "execution_count": null,
   "metadata": {},
   "outputs": [],
   "source": []
  },
  {
   "cell_type": "code",
   "execution_count": null,
   "metadata": {},
   "outputs": [],
   "source": []
  },
  {
   "cell_type": "code",
   "execution_count": null,
   "metadata": {},
   "outputs": [],
   "source": []
  },
  {
   "cell_type": "code",
   "execution_count": null,
   "metadata": {},
   "outputs": [],
   "source": []
  },
  {
   "cell_type": "code",
   "execution_count": null,
   "metadata": {},
   "outputs": [],
   "source": []
  },
  {
   "cell_type": "code",
   "execution_count": null,
   "metadata": {},
   "outputs": [],
   "source": []
  },
  {
   "cell_type": "code",
   "execution_count": null,
   "metadata": {},
   "outputs": [],
   "source": []
  },
  {
   "cell_type": "code",
   "execution_count": null,
   "metadata": {},
   "outputs": [],
   "source": []
  },
  {
   "attachments": {},
   "cell_type": "markdown",
   "metadata": {},
   "source": [
    "Homology Conversion"
   ]
  },
  {
   "cell_type": "code",
   "execution_count": null,
   "metadata": {},
   "outputs": [],
   "source": [
    "def _explode_complexes(resource: pd.DataFrame,\n",
    "                       target: str ='source',\n",
    "                       source: str ='target') -> pd.DataFrame:\n",
    "    resource['key'] = resource[SOURCE] + '|' + resource[TARGET]\n",
    "    resource = (resource.set_index('interaction')\n",
    "                .apply(lambda x: x.str.split('_'))\n",
    "                .explode([TARGET])\n",
    "                .explode(SOURCE)\n",
    "                .reset_index()\n",
    "                )\n",
    "    resource[[f'{SOURCE}_complex', f'{TARGET}_complex']] = resource[\n",
    "        'interaction'].str.split('|', expand=True)\n",
    "\n",
    "    return resource"
   ]
  },
  {
   "cell_type": "code",
   "execution_count": null,
   "metadata": {},
   "outputs": [],
   "source": [
    "def _rebuild_complexes(df, group_cols, target_col):\n",
    "    df = resource.copy()\n",
    "    df_grouped = resource.groupby(group_cols)['target'].agg(lambda x: '_'.join(map(str, x))).reset_index()\n",
    "    df = df.drop('target', axis=1).merge(df_grouped, on=list(np.setdiff1d(group_cols, target_col)), how='inner')\n",
    "    df = df.drop(f'{target_col}_complex', axis=1).rename({'target':f'{target_col}_complex'}, axis=1)\n",
    "    \n",
    "    return df"
   ]
  },
  {
   "cell_type": "code",
   "execution_count": null,
   "metadata": {},
   "outputs": [],
   "source": []
  },
  {
   "cell_type": "code",
   "execution_count": null,
   "metadata": {},
   "outputs": [],
   "source": [
    "map_df = download_homologene('9606', '10090')"
   ]
  },
  {
   "cell_type": "code",
   "execution_count": null,
   "metadata": {},
   "outputs": [],
   "source": [
    "map_df"
   ]
  },
  {
   "cell_type": "code",
   "execution_count": null,
   "metadata": {},
   "outputs": [],
   "source": []
  },
  {
   "cell_type": "code",
   "execution_count": null,
   "metadata": {},
   "outputs": [],
   "source": [
    "resource = li.resource.select_resource()"
   ]
  },
  {
   "cell_type": "code",
   "execution_count": null,
   "metadata": {},
   "outputs": [],
   "source": [
    "resource = li.resource.explode_complexes(resource)\n",
    "# map_df = dict(zip(map_df['source'], map_df['target']))"
   ]
  },
  {
   "cell_type": "code",
   "execution_count": null,
   "metadata": {},
   "outputs": [],
   "source": [
    "resource"
   ]
  },
  {
   "cell_type": "code",
   "execution_count": null,
   "metadata": {},
   "outputs": [],
   "source": []
  },
  {
   "cell_type": "code",
   "execution_count": null,
   "metadata": {},
   "outputs": [],
   "source": [
    "resource = resource.merge(map_df, left_on='receptor', right_on='source', how='inner').drop(['source'], axis=1)\n",
    "resource = _rebuild_complexes(resource, ['interaction', 'ligand'], 'receptor')"
   ]
  },
  {
   "cell_type": "code",
   "execution_count": null,
   "metadata": {},
   "outputs": [],
   "source": [
    "resource"
   ]
  },
  {
   "cell_type": "code",
   "execution_count": null,
   "metadata": {},
   "outputs": [],
   "source": []
  },
  {
   "cell_type": "code",
   "execution_count": null,
   "metadata": {},
   "outputs": [],
   "source": []
  },
  {
   "cell_type": "code",
   "execution_count": null,
   "metadata": {},
   "outputs": [],
   "source": [
    "resource = resource.merge(map_df, left_on='ligand', right_on='source', how='inner').drop(['source'], axis=1)\n",
    "resource = _rebuild_complexes(resource, ['interaction', 'receptor'], 'ligand')"
   ]
  },
  {
   "cell_type": "code",
   "execution_count": null,
   "metadata": {},
   "outputs": [],
   "source": [
    "resource"
   ]
  },
  {
   "cell_type": "code",
   "execution_count": null,
   "metadata": {},
   "outputs": [],
   "source": []
  },
  {
   "cell_type": "code",
   "execution_count": null,
   "metadata": {},
   "outputs": [],
   "source": [
    "# remove duplicates (1:many mappings)\n",
    "resource = resource.drop_duplicates(['interaction']).drop(['interaction'], axis=1)"
   ]
  },
  {
   "cell_type": "code",
   "execution_count": null,
   "metadata": {},
   "outputs": [],
   "source": [
    "resource"
   ]
  },
  {
   "cell_type": "code",
   "execution_count": null,
   "metadata": {},
   "outputs": [],
   "source": []
  },
  {
   "attachments": {},
   "cell_type": "markdown",
   "metadata": {},
   "source": [
    "Only keep full complexes"
   ]
  },
  {
   "cell_type": "code",
   "execution_count": null,
   "metadata": {},
   "outputs": [],
   "source": [
    "map_df = download_homologene('9606', '10090')"
   ]
  },
  {
   "cell_type": "code",
   "execution_count": null,
   "metadata": {},
   "outputs": [],
   "source": [
    "resource = li.resource.select_resource()\n",
    "resource = li.resource.explode_complexes(resource)\n",
    "resource = resource.merge(map_df, left_on='receptor', right_on='source', how='inner').drop(['source'], axis=1)"
   ]
  },
  {
   "cell_type": "code",
   "execution_count": null,
   "metadata": {},
   "outputs": [],
   "source": []
  },
  {
   "cell_type": "code",
   "execution_count": null,
   "metadata": {},
   "outputs": [],
   "source": [
    "group_cols = ['interaction', 'ligand']\n",
    "target = 'receptor'"
   ]
  },
  {
   "cell_type": "code",
   "execution_count": null,
   "metadata": {},
   "outputs": [],
   "source": [
    "resource"
   ]
  },
  {
   "cell_type": "code",
   "execution_count": null,
   "metadata": {},
   "outputs": [],
   "source": []
  },
  {
   "cell_type": "code",
   "execution_count": null,
   "metadata": {},
   "outputs": [],
   "source": [
    "df = resource.copy()\n",
    "\n",
    "df_grouped = resource.groupby(group_cols)['target'].agg(lambda x: '_'.join(map(str, x))).reset_index()"
   ]
  },
  {
   "cell_type": "code",
   "execution_count": null,
   "metadata": {},
   "outputs": [],
   "source": [
    "df_grouped"
   ]
  },
  {
   "cell_type": "code",
   "execution_count": null,
   "metadata": {},
   "outputs": [],
   "source": []
  },
  {
   "cell_type": "code",
   "execution_count": null,
   "metadata": {},
   "outputs": [],
   "source": [
    "# cplex_table['subunits2']"
   ]
  },
  {
   "cell_type": "code",
   "execution_count": null,
   "metadata": {},
   "outputs": [],
   "source": []
  }
 ],
 "metadata": {
  "kernelspec": {
   "display_name": "spiana",
   "language": "python",
   "name": "spiana"
  },
  "language_info": {
   "codemirror_mode": {
    "name": "ipython",
    "version": 3
   },
   "file_extension": ".py",
   "mimetype": "text/x-python",
   "name": "python",
   "nbconvert_exporter": "python",
   "pygments_lexer": "ipython3",
   "version": "3.10.10"
  },
  "orig_nbformat": 4,
  "vscode": {
   "interpreter": {
    "hash": "f9f85f796d01129d0dd105a088854619f454435301f6ffec2fea96ecbd9be4ac"
   }
  }
 },
 "nbformat": 4,
 "nbformat_minor": 2
}
