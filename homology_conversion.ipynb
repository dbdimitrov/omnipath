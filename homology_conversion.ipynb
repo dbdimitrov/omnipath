{
 "cells": [
  {
   "cell_type": "code",
   "execution_count": 1,
   "metadata": {},
   "outputs": [
    {
     "name": "stderr",
     "output_type": "stream",
     "text": [
      "/home/dbdimitrov/anaconda3/envs/spiana/lib/python3.10/site-packages/tqdm/auto.py:21: TqdmWarning: IProgress not found. Please update jupyter and ipywidgets. See https://ipywidgets.readthedocs.io/en/stable/user_install.html\n",
      "  from .autonotebook import tqdm as notebook_tqdm\n"
     ]
    }
   ],
   "source": [
    "import omnipath\n",
    "from omnipath._core.utils._homologene import download_homologene, show_homologene"
   ]
  },
  {
   "cell_type": "code",
   "execution_count": 2,
   "metadata": {},
   "outputs": [],
   "source": [
    "import liana as li"
   ]
  },
  {
   "cell_type": "code",
   "execution_count": 3,
   "metadata": {},
   "outputs": [],
   "source": [
    "import pandas as pd\n",
    "import numpy as np\n",
    "from itertools import product"
   ]
  },
  {
   "cell_type": "code",
   "execution_count": null,
   "metadata": {},
   "outputs": [],
   "source": []
  },
  {
   "attachments": {},
   "cell_type": "markdown",
   "metadata": {},
   "source": [
    "Simplify fun, to be done by a single-column at a time"
   ]
  },
  {
   "cell_type": "code",
   "execution_count": 4,
   "metadata": {},
   "outputs": [],
   "source": [
    "import pandas as pd"
   ]
  },
  {
   "cell_type": "code",
   "execution_count": 5,
   "metadata": {},
   "outputs": [],
   "source": [
    "# define a function to replace list elements with dictionary values\n",
    "def _replace_subunits(lst, my_dict, one_to_many=False):\n",
    "    result = []\n",
    "    for x in lst:\n",
    "        if x in my_dict:\n",
    "            value = my_dict[x]\n",
    "            \n",
    "            if not isinstance(value, list):\n",
    "                value = [value]\n",
    "            \n",
    "            # TODO: one_to_many as integer\n",
    "            if (not one_to_many) & (len(my_dict[x]) > 1):\n",
    "                result.append(np.nan)\n",
    "            else:\n",
    "                result.append(value)\n",
    "        else:\n",
    "            result.append(np.nan)\n",
    "    return result"
   ]
  },
  {
   "cell_type": "code",
   "execution_count": 6,
   "metadata": {},
   "outputs": [],
   "source": [
    "def generate_orthologs(data, column, map_dict, one_to_many=False):\n",
    "    df = data[[column]].drop_duplicates().set_index(column)\n",
    "    \n",
    "    df['subunits'] = df.index.str.split('_')\n",
    "    df['subunits'] = df['subunits'].apply(_replace_subunits, args=(map_dict, one_to_many,))\n",
    "    df = df['subunits'].explode().reset_index()\n",
    "    \n",
    "    grouped = df.groupby(column).filter(lambda x: x['subunits'].notna().all()).groupby(column)\n",
    "    \n",
    "    # Generate all possible subunit combinations within each group\n",
    "    complexes = []\n",
    "    for name, group in grouped:\n",
    "        if group['subunits'].isnull().all():\n",
    "            continue\n",
    "        subunit_lists = [list(x) for x in group['subunits']]\n",
    "        complex_combinations = list(product(*subunit_lists))\n",
    "        for complex in complex_combinations:\n",
    "            complexes.append((name, '_'.join(complex)))\n",
    "    \n",
    "    # Create output DataFrame\n",
    "    result = pd.DataFrame(complexes, columns=['source', 'target']).set_index('source')\n",
    "    \n",
    "    return result"
   ]
  },
  {
   "cell_type": "code",
   "execution_count": null,
   "metadata": {},
   "outputs": [],
   "source": []
  },
  {
   "cell_type": "code",
   "execution_count": 7,
   "metadata": {},
   "outputs": [],
   "source": [
    "# map_df = download_homologene('9606', '10090').set_index('source')\n",
    "# to_many = map_df[map_df.groupby('source').size() >= 2].index"
   ]
  },
  {
   "cell_type": "code",
   "execution_count": 8,
   "metadata": {},
   "outputs": [],
   "source": [
    "# # one_to_many_complexes\n",
    "complex1tomany = ['CSF2RA_CSF2RB',\n",
    " 'CSF2RB_IL5RA',\n",
    " 'CSF2RB_IL3RA',\n",
    " 'IL11RA_IL6ST',\n",
    " 'IFNL3_IFNLR1_IL10RB',\n",
    " 'IL22_IL22RA1']"
   ]
  },
  {
   "cell_type": "code",
   "execution_count": 9,
   "metadata": {},
   "outputs": [],
   "source": [
    "data = li.resource.select_resource()\n",
    "# data = data[data['receptor'].str.contains('_')]\n",
    "# data = data[data['receptor'].isin(complex1tomany)]"
   ]
  },
  {
   "cell_type": "code",
   "execution_count": 10,
   "metadata": {},
   "outputs": [],
   "source": [
    "column = 'receptor'"
   ]
  },
  {
   "cell_type": "code",
   "execution_count": 11,
   "metadata": {},
   "outputs": [
    {
     "data": {
      "text/html": [
       "<div>\n",
       "<style scoped>\n",
       "    .dataframe tbody tr th:only-of-type {\n",
       "        vertical-align: middle;\n",
       "    }\n",
       "\n",
       "    .dataframe tbody tr th {\n",
       "        vertical-align: top;\n",
       "    }\n",
       "\n",
       "    .dataframe thead th {\n",
       "        text-align: right;\n",
       "    }\n",
       "</style>\n",
       "<table border=\"1\" class=\"dataframe\">\n",
       "  <thead>\n",
       "    <tr style=\"text-align: right;\">\n",
       "      <th></th>\n",
       "      <th>ligand</th>\n",
       "      <th>receptor</th>\n",
       "    </tr>\n",
       "  </thead>\n",
       "  <tbody>\n",
       "    <tr>\n",
       "      <th>0</th>\n",
       "      <td>LGALS9</td>\n",
       "      <td>PTPRC</td>\n",
       "    </tr>\n",
       "    <tr>\n",
       "      <th>1</th>\n",
       "      <td>LGALS9</td>\n",
       "      <td>MET</td>\n",
       "    </tr>\n",
       "    <tr>\n",
       "      <th>2</th>\n",
       "      <td>LGALS9</td>\n",
       "      <td>CD44</td>\n",
       "    </tr>\n",
       "    <tr>\n",
       "      <th>3</th>\n",
       "      <td>LGALS9</td>\n",
       "      <td>LRP1</td>\n",
       "    </tr>\n",
       "    <tr>\n",
       "      <th>4</th>\n",
       "      <td>LGALS9</td>\n",
       "      <td>CD47</td>\n",
       "    </tr>\n",
       "    <tr>\n",
       "      <th>...</th>\n",
       "      <td>...</td>\n",
       "      <td>...</td>\n",
       "    </tr>\n",
       "    <tr>\n",
       "      <th>4696</th>\n",
       "      <td>BMP2</td>\n",
       "      <td>ACTR2</td>\n",
       "    </tr>\n",
       "    <tr>\n",
       "      <th>4697</th>\n",
       "      <td>BMP15</td>\n",
       "      <td>ACTR2</td>\n",
       "    </tr>\n",
       "    <tr>\n",
       "      <th>4698</th>\n",
       "      <td>CSF1</td>\n",
       "      <td>CSF3R</td>\n",
       "    </tr>\n",
       "    <tr>\n",
       "      <th>4699</th>\n",
       "      <td>IL36G</td>\n",
       "      <td>IFNAR1</td>\n",
       "    </tr>\n",
       "    <tr>\n",
       "      <th>4700</th>\n",
       "      <td>IL36G</td>\n",
       "      <td>IFNAR2</td>\n",
       "    </tr>\n",
       "  </tbody>\n",
       "</table>\n",
       "<p>4701 rows × 2 columns</p>\n",
       "</div>"
      ],
      "text/plain": [
       "      ligand receptor\n",
       "0     LGALS9    PTPRC\n",
       "1     LGALS9      MET\n",
       "2     LGALS9     CD44\n",
       "3     LGALS9     LRP1\n",
       "4     LGALS9     CD47\n",
       "...      ...      ...\n",
       "4696    BMP2    ACTR2\n",
       "4697   BMP15    ACTR2\n",
       "4698    CSF1    CSF3R\n",
       "4699   IL36G   IFNAR1\n",
       "4700   IL36G   IFNAR2\n",
       "\n",
       "[4701 rows x 2 columns]"
      ]
     },
     "execution_count": 11,
     "metadata": {},
     "output_type": "execute_result"
    }
   ],
   "source": [
    "data"
   ]
  },
  {
   "cell_type": "code",
   "execution_count": null,
   "metadata": {},
   "outputs": [],
   "source": []
  },
  {
   "cell_type": "code",
   "execution_count": null,
   "metadata": {},
   "outputs": [],
   "source": [
    "# exploded = li.resource.explode_complexes(data)\n",
    "# list(exploded[exploded['receptor'].isin(to_many)]['receptor_complex'])"
   ]
  },
  {
   "cell_type": "code",
   "execution_count": null,
   "metadata": {},
   "outputs": [],
   "source": []
  },
  {
   "attachments": {},
   "cell_type": "markdown",
   "metadata": {},
   "source": [
    "SignaLink"
   ]
  },
  {
   "cell_type": "code",
   "execution_count": null,
   "metadata": {},
   "outputs": [],
   "source": [
    "import omnipath as op"
   ]
  },
  {
   "cell_type": "code",
   "execution_count": null,
   "metadata": {},
   "outputs": [],
   "source": [
    "data = op.requests.Annotations.get(resources='SignaLink_pathway', genesymbols=True)"
   ]
  },
  {
   "cell_type": "code",
   "execution_count": null,
   "metadata": {},
   "outputs": [],
   "source": [
    "CPLEX_PREFIX = 'COMPLEX:'"
   ]
  },
  {
   "cell_type": "code",
   "execution_count": null,
   "metadata": {},
   "outputs": [],
   "source": [
    "data['genesymbol'] = data['genesymbol'].replace(CPLEX_PREFIX, '', regex=True)"
   ]
  },
  {
   "cell_type": "code",
   "execution_count": null,
   "metadata": {},
   "outputs": [],
   "source": [
    "column = 'genesymbol'"
   ]
  },
  {
   "cell_type": "code",
   "execution_count": null,
   "metadata": {},
   "outputs": [],
   "source": [
    "# data = data[data[column].str.contains('ABI1_')]\n",
    "data"
   ]
  },
  {
   "cell_type": "code",
   "execution_count": null,
   "metadata": {},
   "outputs": [],
   "source": []
  },
  {
   "attachments": {},
   "cell_type": "markdown",
   "metadata": {},
   "source": [
    "Translate"
   ]
  },
  {
   "cell_type": "code",
   "execution_count": 12,
   "metadata": {},
   "outputs": [],
   "source": [
    "def orthology_translate_column(data, column, id_type, target_organism, replace=True, keep_untranslated=False, source_organism=9606, one_to_many=False):\n",
    "    # get orthologs\n",
    "    source_organism, target_organism = str(source_organism), str(target_organism)\n",
    "    map_df = download_homologene(source_organism, target_organism, id_type).set_index('source')\n",
    "    map_dict = map_df.groupby(level=0)[\"target\"].apply(list).to_dict()\n",
    "    map_data = generate_orthologs(data, column, map_dict, one_to_many)\n",
    "    \n",
    "    # join orthologs\n",
    "    data = (data.set_index(column).\n",
    "            merge(map_data, left_index=True, right_index=True, how='left').\n",
    "            reset_index(names=column)\n",
    "            )\n",
    "    \n",
    "    # replace orthologs\n",
    "    if replace:\n",
    "        data[column] = data['target']\n",
    "        data = data.drop(columns=['target'])\n",
    "        \n",
    "    elif keep_untranslated:\n",
    "        data[column] = data.apply(lambda x: x['target'] if not pd.isnull(x['target']) else x[column], axis=1)\n",
    "    \n",
    "    data = data.dropna(subset=[column])\n",
    "    return data\n"
   ]
  },
  {
   "cell_type": "code",
   "execution_count": null,
   "metadata": {},
   "outputs": [],
   "source": []
  },
  {
   "cell_type": "code",
   "execution_count": 23,
   "metadata": {},
   "outputs": [],
   "source": [
    "data = li.resource.select_resource()\n",
    "column = 'receptor'\n",
    "# data = data[data['receptor'].str.contains('_')]"
   ]
  },
  {
   "cell_type": "code",
   "execution_count": 24,
   "metadata": {},
   "outputs": [],
   "source": [
    "translated_data = orthology_translate_column(data, column ='receptor', id_type='genesymbol', target_organism=10090, replace=True, keep_untranslated=False, one_to_many=False)"
   ]
  },
  {
   "cell_type": "code",
   "execution_count": 25,
   "metadata": {},
   "outputs": [],
   "source": [
    "translated_data = orthology_translate_column(translated_data, column ='ligand', id_type='genesymbol', target_organism=10090, replace=True, keep_untranslated=False, one_to_many=False)"
   ]
  },
  {
   "cell_type": "code",
   "execution_count": 26,
   "metadata": {},
   "outputs": [
    {
     "data": {
      "text/html": [
       "<div>\n",
       "<style scoped>\n",
       "    .dataframe tbody tr th:only-of-type {\n",
       "        vertical-align: middle;\n",
       "    }\n",
       "\n",
       "    .dataframe tbody tr th {\n",
       "        vertical-align: top;\n",
       "    }\n",
       "\n",
       "    .dataframe thead th {\n",
       "        text-align: right;\n",
       "    }\n",
       "</style>\n",
       "<table border=\"1\" class=\"dataframe\">\n",
       "  <thead>\n",
       "    <tr style=\"text-align: right;\">\n",
       "      <th></th>\n",
       "      <th>ligand</th>\n",
       "      <th>receptor</th>\n",
       "    </tr>\n",
       "  </thead>\n",
       "  <tbody>\n",
       "    <tr>\n",
       "      <th>0</th>\n",
       "      <td>A2m</td>\n",
       "      <td>Lrp1</td>\n",
       "    </tr>\n",
       "    <tr>\n",
       "      <th>1</th>\n",
       "      <td>Aanat</td>\n",
       "      <td>Mtnr1a</td>\n",
       "    </tr>\n",
       "    <tr>\n",
       "      <th>2</th>\n",
       "      <td>Aanat</td>\n",
       "      <td>Mtnr1b</td>\n",
       "    </tr>\n",
       "    <tr>\n",
       "      <th>3</th>\n",
       "      <td>Ace</td>\n",
       "      <td>Agtr2</td>\n",
       "    </tr>\n",
       "    <tr>\n",
       "      <th>4</th>\n",
       "      <td>Ace</td>\n",
       "      <td>Bdkrb2</td>\n",
       "    </tr>\n",
       "    <tr>\n",
       "      <th>...</th>\n",
       "      <td>...</td>\n",
       "      <td>...</td>\n",
       "    </tr>\n",
       "    <tr>\n",
       "      <th>4495</th>\n",
       "      <td>Xcl1</td>\n",
       "      <td>Xcr1</td>\n",
       "    </tr>\n",
       "    <tr>\n",
       "      <th>4497</th>\n",
       "      <td>Ybx1</td>\n",
       "      <td>Notch1</td>\n",
       "    </tr>\n",
       "    <tr>\n",
       "      <th>4503</th>\n",
       "      <td>Zp3</td>\n",
       "      <td>Chrna7</td>\n",
       "    </tr>\n",
       "    <tr>\n",
       "      <th>4504</th>\n",
       "      <td>Zp3</td>\n",
       "      <td>Egfr</td>\n",
       "    </tr>\n",
       "    <tr>\n",
       "      <th>4505</th>\n",
       "      <td>Zp3</td>\n",
       "      <td>Mertk</td>\n",
       "    </tr>\n",
       "  </tbody>\n",
       "</table>\n",
       "<p>3922 rows × 2 columns</p>\n",
       "</div>"
      ],
      "text/plain": [
       "     ligand receptor\n",
       "0       A2m     Lrp1\n",
       "1     Aanat   Mtnr1a\n",
       "2     Aanat   Mtnr1b\n",
       "3       Ace    Agtr2\n",
       "4       Ace   Bdkrb2\n",
       "...     ...      ...\n",
       "4495   Xcl1     Xcr1\n",
       "4497   Ybx1   Notch1\n",
       "4503    Zp3   Chrna7\n",
       "4504    Zp3     Egfr\n",
       "4505    Zp3    Mertk\n",
       "\n",
       "[3922 rows x 2 columns]"
      ]
     },
     "execution_count": 26,
     "metadata": {},
     "output_type": "execute_result"
    }
   ],
   "source": [
    "translated_data"
   ]
  },
  {
   "cell_type": "code",
   "execution_count": null,
   "metadata": {},
   "outputs": [],
   "source": []
  },
  {
   "cell_type": "code",
   "execution_count": null,
   "metadata": {},
   "outputs": [],
   "source": []
  },
  {
   "cell_type": "code",
   "execution_count": null,
   "metadata": {},
   "outputs": [],
   "source": [
    "# check if complexes with missing subunits are discarded (done)\n",
    "# check if products - one to many are discarded (done)"
   ]
  },
  {
   "cell_type": "code",
   "execution_count": null,
   "metadata": {},
   "outputs": [],
   "source": []
  },
  {
   "cell_type": "code",
   "execution_count": null,
   "metadata": {},
   "outputs": [],
   "source": []
  },
  {
   "cell_type": "code",
   "execution_count": null,
   "metadata": {},
   "outputs": [],
   "source": [
    "replace = False\n",
    "keep_untranslated = True\n",
    "one_to_many = False"
   ]
  },
  {
   "cell_type": "code",
   "execution_count": null,
   "metadata": {},
   "outputs": [],
   "source": [
    "map_df = download_homologene('9606', '10090').set_index('source')"
   ]
  },
  {
   "cell_type": "code",
   "execution_count": null,
   "metadata": {},
   "outputs": [],
   "source": [
    "map_dict = map_df.groupby(level=0)[\"target\"].apply(list).to_dict()\n",
    "map_data = generate_orthologs(data, column, 'subunits', one_to_many).sort_values('source')"
   ]
  },
  {
   "cell_type": "code",
   "execution_count": null,
   "metadata": {},
   "outputs": [],
   "source": [
    "map_data.head()"
   ]
  },
  {
   "cell_type": "code",
   "execution_count": null,
   "metadata": {},
   "outputs": [],
   "source": []
  },
  {
   "cell_type": "code",
   "execution_count": null,
   "metadata": {},
   "outputs": [],
   "source": [
    "data = data.set_index(column).merge(map_data, left_index=True, right_index=True, how='left').reset_index(names=column)"
   ]
  },
  {
   "cell_type": "code",
   "execution_count": null,
   "metadata": {},
   "outputs": [],
   "source": [
    "if replace:\n",
    "    data[column] = data['target']\n",
    "    data = data.dropna(subset=[column]).drop('target', axis=1)\n",
    "elif keep_untranslated:\n",
    "    data['target'] = data.apply(lambda x: x['target'] if not pd.isnull(x['target']) else x[column], axis=1)"
   ]
  },
  {
   "cell_type": "code",
   "execution_count": null,
   "metadata": {},
   "outputs": [],
   "source": [
    "data"
   ]
  },
  {
   "cell_type": "code",
   "execution_count": null,
   "metadata": {},
   "outputs": [],
   "source": []
  },
  {
   "cell_type": "code",
   "execution_count": null,
   "metadata": {},
   "outputs": [],
   "source": []
  },
  {
   "cell_type": "code",
   "execution_count": null,
   "metadata": {},
   "outputs": [],
   "source": []
  },
  {
   "cell_type": "code",
   "execution_count": null,
   "metadata": {},
   "outputs": [],
   "source": []
  },
  {
   "cell_type": "code",
   "execution_count": null,
   "metadata": {},
   "outputs": [],
   "source": []
  },
  {
   "cell_type": "code",
   "execution_count": null,
   "metadata": {},
   "outputs": [],
   "source": []
  },
  {
   "cell_type": "code",
   "execution_count": null,
   "metadata": {},
   "outputs": [],
   "source": []
  },
  {
   "cell_type": "code",
   "execution_count": null,
   "metadata": {},
   "outputs": [],
   "source": []
  },
  {
   "cell_type": "code",
   "execution_count": null,
   "metadata": {},
   "outputs": [],
   "source": []
  },
  {
   "cell_type": "code",
   "execution_count": null,
   "metadata": {},
   "outputs": [],
   "source": []
  },
  {
   "cell_type": "code",
   "execution_count": null,
   "metadata": {},
   "outputs": [],
   "source": []
  },
  {
   "cell_type": "code",
   "execution_count": null,
   "metadata": {},
   "outputs": [],
   "source": []
  },
  {
   "cell_type": "code",
   "execution_count": null,
   "metadata": {},
   "outputs": [],
   "source": []
  },
  {
   "cell_type": "code",
   "execution_count": null,
   "metadata": {},
   "outputs": [],
   "source": []
  },
  {
   "attachments": {},
   "cell_type": "markdown",
   "metadata": {},
   "source": [
    "Homology Conversion"
   ]
  },
  {
   "cell_type": "code",
   "execution_count": null,
   "metadata": {},
   "outputs": [],
   "source": [
    "def _explode_complexes(resource: pd.DataFrame,\n",
    "                       target: str ='source',\n",
    "                       source: str ='target') -> pd.DataFrame:\n",
    "    resource['key'] = resource[SOURCE] + '|' + resource[TARGET]\n",
    "    resource = (resource.set_index('interaction')\n",
    "                .apply(lambda x: x.str.split('_'))\n",
    "                .explode([TARGET])\n",
    "                .explode(SOURCE)\n",
    "                .reset_index()\n",
    "                )\n",
    "    resource[[f'{SOURCE}_complex', f'{TARGET}_complex']] = resource[\n",
    "        'interaction'].str.split('|', expand=True)\n",
    "\n",
    "    return resource"
   ]
  },
  {
   "cell_type": "code",
   "execution_count": null,
   "metadata": {},
   "outputs": [],
   "source": [
    "def _rebuild_complexes(df, group_cols, target_col):\n",
    "    df = resource.copy()\n",
    "    df_grouped = resource.groupby(group_cols)['target'].agg(lambda x: '_'.join(map(str, x))).reset_index()\n",
    "    df = df.drop('target', axis=1).merge(df_grouped, on=list(np.setdiff1d(group_cols, target_col)), how='inner')\n",
    "    df = df.drop(f'{target_col}_complex', axis=1).rename({'target':f'{target_col}_complex'}, axis=1)\n",
    "    \n",
    "    return df"
   ]
  },
  {
   "cell_type": "code",
   "execution_count": null,
   "metadata": {},
   "outputs": [],
   "source": []
  },
  {
   "cell_type": "code",
   "execution_count": null,
   "metadata": {},
   "outputs": [],
   "source": [
    "map_df = download_homologene('9606', '10090')"
   ]
  },
  {
   "cell_type": "code",
   "execution_count": null,
   "metadata": {},
   "outputs": [],
   "source": [
    "map_df"
   ]
  },
  {
   "cell_type": "code",
   "execution_count": null,
   "metadata": {},
   "outputs": [],
   "source": []
  },
  {
   "cell_type": "code",
   "execution_count": null,
   "metadata": {},
   "outputs": [],
   "source": [
    "resource = li.resource.select_resource()"
   ]
  },
  {
   "cell_type": "code",
   "execution_count": null,
   "metadata": {},
   "outputs": [],
   "source": [
    "resource = li.resource.explode_complexes(resource)\n",
    "# map_df = dict(zip(map_df['source'], map_df['target']))"
   ]
  },
  {
   "cell_type": "code",
   "execution_count": null,
   "metadata": {},
   "outputs": [],
   "source": [
    "resource"
   ]
  },
  {
   "cell_type": "code",
   "execution_count": null,
   "metadata": {},
   "outputs": [],
   "source": []
  },
  {
   "cell_type": "code",
   "execution_count": null,
   "metadata": {},
   "outputs": [],
   "source": [
    "resource = resource.merge(map_df, left_on='receptor', right_on='source', how='inner').drop(['source'], axis=1)\n",
    "resource = _rebuild_complexes(resource, ['interaction', 'ligand'], 'receptor')"
   ]
  },
  {
   "cell_type": "code",
   "execution_count": null,
   "metadata": {},
   "outputs": [],
   "source": [
    "resource"
   ]
  },
  {
   "cell_type": "code",
   "execution_count": null,
   "metadata": {},
   "outputs": [],
   "source": []
  },
  {
   "cell_type": "code",
   "execution_count": null,
   "metadata": {},
   "outputs": [],
   "source": []
  },
  {
   "cell_type": "code",
   "execution_count": null,
   "metadata": {},
   "outputs": [],
   "source": [
    "resource = resource.merge(map_df, left_on='ligand', right_on='source', how='inner').drop(['source'], axis=1)\n",
    "resource = _rebuild_complexes(resource, ['interaction', 'receptor'], 'ligand')"
   ]
  },
  {
   "cell_type": "code",
   "execution_count": null,
   "metadata": {},
   "outputs": [],
   "source": [
    "resource"
   ]
  },
  {
   "cell_type": "code",
   "execution_count": null,
   "metadata": {},
   "outputs": [],
   "source": []
  },
  {
   "cell_type": "code",
   "execution_count": null,
   "metadata": {},
   "outputs": [],
   "source": [
    "# remove duplicates (1:many mappings)\n",
    "resource = resource.drop_duplicates(['interaction']).drop(['interaction'], axis=1)"
   ]
  },
  {
   "cell_type": "code",
   "execution_count": null,
   "metadata": {},
   "outputs": [],
   "source": [
    "resource"
   ]
  },
  {
   "cell_type": "code",
   "execution_count": null,
   "metadata": {},
   "outputs": [],
   "source": []
  },
  {
   "attachments": {},
   "cell_type": "markdown",
   "metadata": {},
   "source": [
    "Only keep full complexes"
   ]
  },
  {
   "cell_type": "code",
   "execution_count": null,
   "metadata": {},
   "outputs": [],
   "source": [
    "map_df = download_homologene('9606', '10090')"
   ]
  },
  {
   "cell_type": "code",
   "execution_count": null,
   "metadata": {},
   "outputs": [],
   "source": [
    "resource = li.resource.select_resource()\n",
    "resource = li.resource.explode_complexes(resource)\n",
    "resource = resource.merge(map_df, left_on='receptor', right_on='source', how='inner').drop(['source'], axis=1)"
   ]
  },
  {
   "cell_type": "code",
   "execution_count": null,
   "metadata": {},
   "outputs": [],
   "source": []
  },
  {
   "cell_type": "code",
   "execution_count": null,
   "metadata": {},
   "outputs": [],
   "source": [
    "group_cols = ['interaction', 'ligand']\n",
    "target = 'receptor'"
   ]
  },
  {
   "cell_type": "code",
   "execution_count": null,
   "metadata": {},
   "outputs": [],
   "source": [
    "resource"
   ]
  },
  {
   "cell_type": "code",
   "execution_count": null,
   "metadata": {},
   "outputs": [],
   "source": []
  },
  {
   "cell_type": "code",
   "execution_count": null,
   "metadata": {},
   "outputs": [],
   "source": [
    "df = resource.copy()\n",
    "\n",
    "df_grouped = resource.groupby(group_cols)['target'].agg(lambda x: '_'.join(map(str, x))).reset_index()"
   ]
  },
  {
   "cell_type": "code",
   "execution_count": null,
   "metadata": {},
   "outputs": [],
   "source": [
    "df_grouped"
   ]
  },
  {
   "cell_type": "code",
   "execution_count": null,
   "metadata": {},
   "outputs": [],
   "source": []
  },
  {
   "cell_type": "code",
   "execution_count": null,
   "metadata": {},
   "outputs": [],
   "source": [
    "# cplex_table['subunits2']"
   ]
  },
  {
   "cell_type": "code",
   "execution_count": null,
   "metadata": {},
   "outputs": [],
   "source": []
  }
 ],
 "metadata": {
  "kernelspec": {
   "display_name": "spiana",
   "language": "python",
   "name": "spiana"
  },
  "language_info": {
   "codemirror_mode": {
    "name": "ipython",
    "version": 3
   },
   "file_extension": ".py",
   "mimetype": "text/x-python",
   "name": "python",
   "nbconvert_exporter": "python",
   "pygments_lexer": "ipython3",
   "version": "3.10.10"
  },
  "orig_nbformat": 4,
  "vscode": {
   "interpreter": {
    "hash": "f9f85f796d01129d0dd105a088854619f454435301f6ffec2fea96ecbd9be4ac"
   }
  }
 },
 "nbformat": 4,
 "nbformat_minor": 2
}
